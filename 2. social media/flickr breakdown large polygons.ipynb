{
 "cells": [
  {
   "cell_type": "code",
   "execution_count": 41,
   "metadata": {
    "collapsed": false
   },
   "outputs": [],
   "source": [
    "PLACE_POLYS_NP = '../data/place_polys_np.geojson'\n",
    "import geopandas as gp\n",
    "import sys, os\n",
    "sys.path.insert(0, os.path.abspath('../'))\n",
    "from utils.geofunc import grid_area, haversine\n",
    "place_gpdf = gp.read_file(PLACE_POLYS_NP)\n",
    "place_gpdf_small = place_gpdf[place_gpdf['radius+1km']<=32000]\n",
    "\n",
    "places_small = zip(place_gpdf_small['place##cnt'].values,\n",
    "                   place_gpdf_small.cntr.apply(eval).apply(lambda x: (x[1],x[0])).values,\n",
    "                   place_gpdf_small['radius+1km'].apply(lambda x: '{}km'.format(int(x/1000)+1)).values)\n",
    "place_gpdf_large = polys[polys['radius+1km']>32000]\n",
    "place_large = get_place_large(place_gpdf_large)\n",
    "places = places_small+place_large"
   ]
  },
  {
   "cell_type": "code",
   "execution_count": 42,
   "metadata": {
    "collapsed": true
   },
   "outputs": [],
   "source": [
    "def get_max_dis_from_center_to_ext(centr,ext_coords):\n",
    "    lon1, lat1 = centr\n",
    "    return max([haversine(lon1,lat1, lon2,lat2) for lon2, lat2 in ext_coords])\n",
    "\n",
    "def get_cntr_radius(poly):\n",
    "    cntr = poly.centroid.coords[0]\n",
    "    ext_coords = poly.exterior.coords\n",
    "    radius = get_max_dis_from_center_to_ext(cntr, ext_coords)\n",
    "    return cntr, radius, ext_coords\n",
    "\n",
    "def get_place_large(place_gpdf_large):\n",
    "    import shapely.geometry as shpgeo\n",
    "    l = zip(large['place##cnt'].values,large.geometry.values, large['radius+1km'])\n",
    "    place_large = []\n",
    "    for place, poly, radius in l:\n",
    "        cnt = 0\n",
    "        ngrid = int(radius/32000) +2 \n",
    "        w,s,e,n = poly.bounds\n",
    "        gridded = grid_area((s,w),(n,e), ngrid=ngrid)\n",
    "        desire_boxes = []\n",
    "        for (s,w),(n,e) in gridded:\n",
    "            box = shpgeo.box(w,s,e,n)\n",
    "            if box.intersects(poly):\n",
    "                [lon,lat], radius, ext_coords = get_cntr_radius(box)\n",
    "                sub_place = place + '[%d]' % cnt\n",
    "                cnt+=1\n",
    "                desire_boxes.append((sub_place, [lat,lon], '{}km'.format(int(radius/1000)+1)))\n",
    "        place_large.extend(desire_boxes)\n",
    "    return place_large"
   ]
  }
 ],
 "metadata": {
  "kernelspec": {
   "display_name": "Python 2",
   "language": "python",
   "name": "python2"
  },
  "language_info": {
   "codemirror_mode": {
    "name": "ipython",
    "version": 2
   },
   "file_extension": ".py",
   "mimetype": "text/x-python",
   "name": "python",
   "nbconvert_exporter": "python",
   "pygments_lexer": "ipython2",
   "version": "2.7.11"
  }
 },
 "nbformat": 4,
 "nbformat_minor": 0
}
