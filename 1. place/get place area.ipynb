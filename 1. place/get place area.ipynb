{
 "cells": [
  {
   "cell_type": "code",
   "execution_count": 1,
   "metadata": {
    "collapsed": true
   },
   "outputs": [],
   "source": [
    "import geopandas as gp\n",
    "%matplotlib inline\n",
    "import shapely.geometry as shpgeo\n",
    "PLACE_POLYS_MUSEUM = '../data/place_polys_museum.geojson' \n",
    "polys = gp.read_file(PLACE_POLYS_MUSEUM)"
   ]
  },
  {
   "cell_type": "code",
   "execution_count": 2,
   "metadata": {
    "collapsed": false
   },
   "outputs": [
    {
     "data": {
      "text/plain": [
       "True    40\n",
       "dtype: int64"
      ]
     },
     "execution_count": 2,
     "metadata": {},
     "output_type": "execute_result"
    }
   ],
   "source": [
    "min_lat= 59.066574\n",
    "max_lon = -8.089235 \n",
    "max_lat = 50.126911\n",
    "min_lon = 1.793197\n",
    "lon_0 = (max_lon+min_lon)/2\n",
    "lat_0 = (max_lat+min_lat)/2\n",
    "eng_bbox = shpgeo.Polygon([(max_lon,min_lat), (min_lon,min_lat), (min_lon,max_lat), (max_lon, max_lat)])\n",
    "polys.geometry.apply(lambda x: x.within(eng_bbox)).value_counts()"
   ]
  },
  {
   "cell_type": "code",
   "execution_count": 3,
   "metadata": {
    "collapsed": true
   },
   "outputs": [],
   "source": [
    "target_crs = {'datum':'WGS84', 'no_defs':True, 'proj':'aea', 'lat_1':min_lat, 'lat_2':max_lat, 'lat_0':lat_0, 'lon_0':lon_0}\n",
    "polys['area'] = polys.to_crs(crs=target_crs).geometry.apply(lambda x: x.area)"
   ]
  },
  {
   "cell_type": "code",
   "execution_count": 4,
   "metadata": {
    "collapsed": false
   },
   "outputs": [],
   "source": [
    "polys.place = polys.place.apply(lambda x: x[:-1] if x[-1].isdigit() else x)"
   ]
  },
  {
   "cell_type": "code",
   "execution_count": 9,
   "metadata": {
    "collapsed": false
   },
   "outputs": [
    {
     "data": {
      "text/plain": [
       "33       168.865878\n",
       "19       257.431446\n",
       "10       698.200966\n",
       "4       1230.067669\n",
       "38      1279.504821\n",
       "1       1584.020382\n",
       "39      2088.911301\n",
       "24      2195.866266\n",
       "6       2216.736539\n",
       "12      2912.625841\n",
       "11      3057.736830\n",
       "30      3212.998709\n",
       "17      3592.877985\n",
       "16      3686.185964\n",
       "31      3727.173238\n",
       "14      3831.769639\n",
       "26      3973.329678\n",
       "3       4601.349663\n",
       "36      5044.918191\n",
       "20      5409.806191\n",
       "23      5492.942587\n",
       "5       5742.365189\n",
       "18      5920.126294\n",
       "22      6179.336180\n",
       "21      6533.912401\n",
       "35      6588.681236\n",
       "29      7232.903487\n",
       "37     11411.495578\n",
       "32     11607.615542\n",
       "25     12112.918051\n",
       "34     12502.466091\n",
       "15     13610.981613\n",
       "9      19263.517111\n",
       "28     25422.123650\n",
       "8      33355.556802\n",
       "7      33935.510206\n",
       "2      43000.194671\n",
       "0      54246.704706\n",
       "27     69729.106205\n",
       "13    949351.718350\n",
       "Name: area, dtype: float64"
      ]
     },
     "execution_count": 9,
     "metadata": {},
     "output_type": "execute_result"
    }
   ],
   "source": [
    "polys['area'].order()"
   ]
  },
  {
   "cell_type": "code",
   "execution_count": 12,
   "metadata": {
    "collapsed": false
   },
   "outputs": [],
   "source": [
    "places = polys.groupby('place').agg(sum).reset_index()\n",
    "places.columns = ['place','area']\n",
    "places.place = places.place.apply(lambda x: x.replace(' ','_'))"
   ]
  },
  {
   "cell_type": "code",
   "execution_count": 13,
   "metadata": {
    "collapsed": true
   },
   "outputs": [],
   "source": [
    "path = '../data/place_area.csv'\n",
    "places.to_csv(path)"
   ]
  },
  {
   "cell_type": "markdown",
   "metadata": {},
   "source": [
    " "
   ]
  },
  {
   "cell_type": "markdown",
   "metadata": {},
   "source": [
    " "
   ]
  },
  {
   "cell_type": "markdown",
   "metadata": {},
   "source": [
    " "
   ]
  },
  {
   "cell_type": "markdown",
   "metadata": {},
   "source": [
    " "
   ]
  },
  {
   "cell_type": "markdown",
   "metadata": {},
   "source": [
    " "
   ]
  },
  {
   "cell_type": "markdown",
   "metadata": {},
   "source": [
    " "
   ]
  },
  {
   "cell_type": "markdown",
   "metadata": {},
   "source": [
    " "
   ]
  },
  {
   "cell_type": "markdown",
   "metadata": {},
   "source": [
    " "
   ]
  },
  {
   "cell_type": "markdown",
   "metadata": {},
   "source": [
    " "
   ]
  },
  {
   "cell_type": "markdown",
   "metadata": {},
   "source": [
    " "
   ]
  },
  {
   "cell_type": "markdown",
   "metadata": {},
   "source": [
    " "
   ]
  },
  {
   "cell_type": "code",
   "execution_count": 94,
   "metadata": {
    "collapsed": false
   },
   "outputs": [],
   "source": [
    "def haversine(lon1, lat1, lon2, lat2):\n",
    "    from math import radians, cos, sin, asin, sqrt\n",
    "    # convert decimal degrees to radians \n",
    "    lon1, lat1, lon2, lat2 = map(radians, [lon1, lat1, lon2, lat2])\n",
    "    # haversine formula \n",
    "    dlon = lon2 - lon1 \n",
    "    dlat = lat2 - lat1 \n",
    "    a = sin(dlat/2)**2 + cos(lat1) * cos(lat2) * sin(dlon/2)**2\n",
    "    c = 2 * asin(sqrt(a)) \n",
    "    km = 6367 * c\n",
    "    m = km *1000\n",
    "    return m   \n",
    "\n",
    "def grid_line(mini, maxi, ngrid=10):\n",
    "    delta = (maxi-mini)/ngrid\n",
    "    return [(mini+i*delta, mini+(i+1)*delta) for i in range(ngrid)] \n",
    "\n",
    "\n",
    "def grid_bbox(sw, ne, ngrid=10):\n",
    "    grid_lat = grid_line(sw[0], ne[0], ngrid)\n",
    "    grid_lon = grid_line(sw[1], ne[1], ngrid)\n",
    "    grids = []\n",
    "    for i in range(ngrid):\n",
    "        for j in range(ngrid):\n",
    "            s, n = grid_lat[i]\n",
    "            w, e = grid_lon[j]\n",
    "            grids.append(((s,w),(n,e)))\n",
    "    return grids\n",
    "def area_of_grid(grid):\n",
    "    (s,w), (n,e) = grid\n",
    "    l = haversine(w,s,e,s)\n",
    "    w = haversine(e,n,e,s)\n",
    "    return l*w\n",
    "\n",
    "def swne2poly(sw,ne):\n",
    "    return shpgeo.box(sw[1], sw[0], ne[1], ne[0])\n",
    "\n",
    "def area_poly(polygon, ngrid=100):\n",
    "    w,s,e,n = polygon.bounds\n",
    "    polygon.within(shpgeo.Polygon([(w,s),(e,s),(e,n),(w,n)]))\n",
    "    grids = grid_bbox((s,w),(n,e),ngrid)\n",
    "    unit_area = area_of_grid(grids[0])\n",
    "    grids = [swne2poly(*grid)for grid in grids]\n",
    "    grids = [grid for grid in grids if grid.intersects(polygon)]\n",
    "    return len(grids)*unit_area"
   ]
  }
 ],
 "metadata": {
  "kernelspec": {
   "display_name": "Python 2",
   "language": "python",
   "name": "python2"
  },
  "language_info": {
   "codemirror_mode": {
    "name": "ipython",
    "version": 2
   },
   "file_extension": ".py",
   "mimetype": "text/x-python",
   "name": "python",
   "nbconvert_exporter": "python",
   "pygments_lexer": "ipython2",
   "version": "2.7.11"
  }
 },
 "nbformat": 4,
 "nbformat_minor": 0
}
