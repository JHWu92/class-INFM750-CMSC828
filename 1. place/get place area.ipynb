{
 "cells": [
  {
   "cell_type": "code",
   "execution_count": 1,
   "metadata": {
    "collapsed": true
   },
   "outputs": [],
   "source": [
    "import geopandas as gp\n",
    "%matplotlib inline\n",
    "import shapely.geometry as shpgeo\n",
    "PLACE_POLYS_MUSEUM = '../data/place_polys_museum.geojson' \n",
    "PLACE_POLYS_NP = '../data/place_polys_np.geojson'\n",
    "# polys = gp.read_file(PLACE_POLYS_MUSEUM)\n",
    "polys = gp.read_file(PLACE_POLYS_NP)\n"
   ]
  },
  {
   "cell_type": "code",
   "execution_count": 2,
   "metadata": {
    "collapsed": false
   },
   "outputs": [
    {
     "data": {
      "text/plain": [
       "False    83\n",
       "dtype: int64"
      ]
     },
     "execution_count": 2,
     "metadata": {},
     "output_type": "execute_result"
    }
   ],
   "source": [
    "min_lat= 59.066574\n",
    "max_lon = -8.089235 \n",
    "max_lat = 50.126911\n",
    "min_lon = 1.793197\n",
    "lon_0 = (max_lon+min_lon)/2\n",
    "lat_0 = (max_lat+min_lat)/2\n",
    "eng_bbox = shpgeo.Polygon([(max_lon,min_lat), (min_lon,min_lat), (min_lon,max_lat), (max_lon, max_lat)])\n",
    "polys.geometry.apply(lambda x: x.within(eng_bbox)).value_counts()"
   ]
  },
  {
   "cell_type": "code",
   "execution_count": null,
   "metadata": {
    "collapsed": true
   },
   "outputs": [],
   "source": []
  },
  {
   "cell_type": "code",
   "execution_count": 3,
   "metadata": {
    "collapsed": true
   },
   "outputs": [],
   "source": [
    "# uk museum\n",
    "target_crs = {'datum':'WGS84', 'no_defs':True, 'proj':'aea', 'lat_1':min_lat, 'lat_2':max_lat, 'lat_0':lat_0, 'lon_0':lon_0} \n",
    "# usa national park\n",
    "target_crs = {'proj': 'aea' ,'lat_1':29.5,'lat_2':45.5,'lat_0':37.5 ,'lon_0':-96 ,\n",
    "           'x_0':0, 'y_0':0, 'datum':'NAD83', 'units':'m', 'no_defs':True}\n",
    "polys['area'] = polys.to_crs(crs=target_crs).geometry.apply(lambda x: x.area)"
   ]
  },
  {
   "cell_type": "code",
   "execution_count": 4,
   "metadata": {
    "collapsed": true
   },
   "outputs": [],
   "source": [
    "def clean_place(x):\n",
    "    if '##' in x:\n",
    "        x = x.split('##')[0]\n",
    "    x = x[:-1] if x[-1].isdigit() else x\n",
    "    return x.replace(' ','_')"
   ]
  },
  {
   "cell_type": "code",
   "execution_count": 5,
   "metadata": {
    "collapsed": false
   },
   "outputs": [],
   "source": [
    "polys.place = polys.place.apply(clean_place)"
   ]
  },
  {
   "cell_type": "code",
   "execution_count": 6,
   "metadata": {
    "collapsed": false,
    "scrolled": true
   },
   "outputs": [
    {
     "data": {
      "text/plain": [
       "32    1.248603e+02\n",
       "31    1.420875e+02\n",
       "51    7.117263e+02\n",
       "33    8.407334e+02\n",
       "73    1.191251e+03\n",
       "40    1.373043e+03\n",
       "8     3.098034e+03\n",
       "35    5.027369e+03\n",
       "72    5.416467e+03\n",
       "21    6.820164e+03\n",
       "14    8.333892e+03\n",
       "13    1.289262e+04\n",
       "27    1.413327e+04\n",
       "39    1.764731e+04\n",
       "20    1.908648e+04\n",
       "37    2.045945e+04\n",
       "5     2.051696e+04\n",
       "12    2.170807e+04\n",
       "29    3.204933e+04\n",
       "17    5.261821e+04\n",
       "34    5.894206e+04\n",
       "7     6.797724e+04\n",
       "24    8.995106e+04\n",
       "19    1.062955e+05\n",
       "10    1.086532e+05\n",
       "26    1.290770e+05\n",
       "4     1.836641e+05\n",
       "36    2.061719e+05\n",
       "6     2.096805e+05\n",
       "25    2.370531e+05\n",
       "          ...     \n",
       "47    7.719014e+06\n",
       "41    1.173285e+07\n",
       "0     1.240238e+07\n",
       "30    1.372380e+07\n",
       "71    3.424443e+07\n",
       "15    3.970652e+07\n",
       "70    4.189874e+07\n",
       "18    8.619568e+07\n",
       "55    1.030685e+08\n",
       "67    1.249508e+08\n",
       "56    1.331683e+08\n",
       "74    1.456341e+08\n",
       "82    1.706828e+08\n",
       "52    2.034580e+08\n",
       "69    2.386897e+08\n",
       "64    2.597006e+08\n",
       "81    2.967572e+08\n",
       "49    3.087400e+08\n",
       "78    3.737744e+08\n",
       "76    3.764839e+08\n",
       "63    4.957274e+08\n",
       "80    5.077084e+08\n",
       "79    5.352754e+08\n",
       "45    5.559019e+08\n",
       "66    6.318078e+08\n",
       "46    8.540698e+08\n",
       "54    8.780145e+08\n",
       "61    2.949937e+09\n",
       "60    3.189320e+09\n",
       "59    1.126925e+10\n",
       "Name: area, dtype: float64"
      ]
     },
     "execution_count": 6,
     "metadata": {},
     "output_type": "execute_result"
    }
   ],
   "source": [
    "polys['area'].order()"
   ]
  },
  {
   "cell_type": "code",
   "execution_count": 10,
   "metadata": {
    "collapsed": false,
    "scrolled": true
   },
   "outputs": [],
   "source": [
    "places = polys.groupby('place').agg(sum).reset_index()[['place','area']]\n"
   ]
  },
  {
   "cell_type": "code",
   "execution_count": 11,
   "metadata": {
    "collapsed": false
   },
   "outputs": [
    {
     "data": {
      "text/html": [
       "<div>\n",
       "<table border=\"1\" class=\"dataframe\">\n",
       "  <thead>\n",
       "    <tr style=\"text-align: right;\">\n",
       "      <th></th>\n",
       "      <th>place</th>\n",
       "      <th>area</th>\n",
       "    </tr>\n",
       "  </thead>\n",
       "  <tbody>\n",
       "    <tr>\n",
       "      <th>0</th>\n",
       "      <td>Acadia_NP_(ACAD)</td>\n",
       "      <td>1.590927e+08</td>\n",
       "    </tr>\n",
       "    <tr>\n",
       "      <th>1</th>\n",
       "      <td>Adams_NHP</td>\n",
       "      <td>1.764731e+04</td>\n",
       "    </tr>\n",
       "    <tr>\n",
       "      <th>2</th>\n",
       "      <td>African_Burial_Ground_NM_(AFBG)</td>\n",
       "      <td>1.373043e+03</td>\n",
       "    </tr>\n",
       "    <tr>\n",
       "      <th>3</th>\n",
       "      <td>Agate_Fossil_Beds_NM</td>\n",
       "      <td>1.173285e+07</td>\n",
       "    </tr>\n",
       "    <tr>\n",
       "      <th>4</th>\n",
       "      <td>Alibates_Flint_Quarries_NM_(ALFL)</td>\n",
       "      <td>5.578203e+06</td>\n",
       "    </tr>\n",
       "    <tr>\n",
       "      <th>5</th>\n",
       "      <td>Allegheny_Portage_Railroad_NHS_(ALPO)</td>\n",
       "      <td>3.049101e+05</td>\n",
       "    </tr>\n",
       "    <tr>\n",
       "      <th>6</th>\n",
       "      <td>Andersonville_NHS_(ANDE)</td>\n",
       "      <td>2.044381e+06</td>\n",
       "    </tr>\n",
       "    <tr>\n",
       "      <th>7</th>\n",
       "      <td>Aniakchak_NM_&amp;_PRES_(ANIA)</td>\n",
       "      <td>1.409972e+09</td>\n",
       "    </tr>\n",
       "    <tr>\n",
       "      <th>8</th>\n",
       "      <td>Antietam_NB_(ANTI)</td>\n",
       "      <td>7.719014e+06</td>\n",
       "    </tr>\n",
       "    <tr>\n",
       "      <th>9</th>\n",
       "      <td>Appomattox_Court_House_NHP_(APCO)</td>\n",
       "      <td>5.899875e+06</td>\n",
       "    </tr>\n",
       "    <tr>\n",
       "      <th>10</th>\n",
       "      <td>Arches_NP_(ARCH)</td>\n",
       "      <td>3.087400e+08</td>\n",
       "    </tr>\n",
       "    <tr>\n",
       "      <th>11</th>\n",
       "      <td>Arkansas_Post_NMEM_(ARPO)</td>\n",
       "      <td>2.139591e+06</td>\n",
       "    </tr>\n",
       "    <tr>\n",
       "      <th>12</th>\n",
       "      <td>Arlington_House_The_R.E._Lee_MEM_(ARHO)</td>\n",
       "      <td>7.117263e+02</td>\n",
       "    </tr>\n",
       "    <tr>\n",
       "      <th>13</th>\n",
       "      <td>Assateague_Island_NS_(ASIS)</td>\n",
       "      <td>2.034580e+08</td>\n",
       "    </tr>\n",
       "    <tr>\n",
       "      <th>14</th>\n",
       "      <td>Aztec_Ruins_NM_(AZRU)</td>\n",
       "      <td>1.281497e+06</td>\n",
       "    </tr>\n",
       "    <tr>\n",
       "      <th>15</th>\n",
       "      <td>Badlands_NP_(BADL)</td>\n",
       "      <td>9.810829e+08</td>\n",
       "    </tr>\n",
       "    <tr>\n",
       "      <th>16</th>\n",
       "      <td>Bandelier_NM_(BAND)</td>\n",
       "      <td>1.364052e+08</td>\n",
       "    </tr>\n",
       "    <tr>\n",
       "      <th>17</th>\n",
       "      <td>Bent's_Old_Fort_NHS_(BEOL)</td>\n",
       "      <td>3.318669e+06</td>\n",
       "    </tr>\n",
       "    <tr>\n",
       "      <th>18</th>\n",
       "      <td>Bering_Land_Bridge_NPRES_(BELA)</td>\n",
       "      <td>1.126925e+10</td>\n",
       "    </tr>\n",
       "    <tr>\n",
       "      <th>19</th>\n",
       "      <td>Big_Bend_NP_(BIBE)</td>\n",
       "      <td>3.189320e+09</td>\n",
       "    </tr>\n",
       "    <tr>\n",
       "      <th>20</th>\n",
       "      <td>Big_Cypress_NPRES_(BICY)</td>\n",
       "      <td>2.949937e+09</td>\n",
       "    </tr>\n",
       "    <tr>\n",
       "      <th>21</th>\n",
       "      <td>Big_Hole_NB_(BIHO)</td>\n",
       "      <td>3.955481e+06</td>\n",
       "    </tr>\n",
       "    <tr>\n",
       "      <th>22</th>\n",
       "      <td>Big_South_Fork_NRRA_(BISO)</td>\n",
       "      <td>4.957274e+08</td>\n",
       "    </tr>\n",
       "    <tr>\n",
       "      <th>23</th>\n",
       "      <td>Bighorn_Canyon_NRA</td>\n",
       "      <td>2.610730e+08</td>\n",
       "    </tr>\n",
       "    <tr>\n",
       "      <th>24</th>\n",
       "      <td>Biscayne_NP</td>\n",
       "      <td>6.318078e+08</td>\n",
       "    </tr>\n",
       "    <tr>\n",
       "      <th>25</th>\n",
       "      <td>Black_Canyon_of_the_Gunnison_NP</td>\n",
       "      <td>1.268901e+08</td>\n",
       "    </tr>\n",
       "    <tr>\n",
       "      <th>26</th>\n",
       "      <td>Blue_Ridge_PKWY</td>\n",
       "      <td>3.148329e+08</td>\n",
       "    </tr>\n",
       "    <tr>\n",
       "      <th>27</th>\n",
       "      <td>Brown_v._Board_of_Education_NHS</td>\n",
       "      <td>1.191251e+03</td>\n",
       "    </tr>\n",
       "    <tr>\n",
       "      <th>28</th>\n",
       "      <td>Brown_v._Board_of_Education_NHS_[larger]</td>\n",
       "      <td>5.416467e+03</td>\n",
       "    </tr>\n",
       "    <tr>\n",
       "      <th>29</th>\n",
       "      <td>Bryce_Canyon_NP</td>\n",
       "      <td>1.456341e+08</td>\n",
       "    </tr>\n",
       "    <tr>\n",
       "      <th>30</th>\n",
       "      <td>Buck_Island_Reef_NM</td>\n",
       "      <td>6.933557e+05</td>\n",
       "    </tr>\n",
       "    <tr>\n",
       "      <th>31</th>\n",
       "      <td>Buffalo_NR</td>\n",
       "      <td>3.764839e+08</td>\n",
       "    </tr>\n",
       "    <tr>\n",
       "      <th>32</th>\n",
       "      <td>Cabrillo_NM</td>\n",
       "      <td>6.475333e+05</td>\n",
       "    </tr>\n",
       "    <tr>\n",
       "      <th>33</th>\n",
       "      <td>Canyon_de_Chelly_NM</td>\n",
       "      <td>3.737744e+08</td>\n",
       "    </tr>\n",
       "    <tr>\n",
       "      <th>34</th>\n",
       "      <td>Canyonlands_NP</td>\n",
       "      <td>1.339741e+09</td>\n",
       "    </tr>\n",
       "    <tr>\n",
       "      <th>35</th>\n",
       "      <td>Cape_Cod_NS</td>\n",
       "      <td>1.706828e+08</td>\n",
       "    </tr>\n",
       "  </tbody>\n",
       "</table>\n",
       "</div>"
      ],
      "text/plain": [
       "                                       place          area\n",
       "0                           Acadia_NP_(ACAD)  1.590927e+08\n",
       "1                                  Adams_NHP  1.764731e+04\n",
       "2            African_Burial_Ground_NM_(AFBG)  1.373043e+03\n",
       "3                       Agate_Fossil_Beds_NM  1.173285e+07\n",
       "4          Alibates_Flint_Quarries_NM_(ALFL)  5.578203e+06\n",
       "5      Allegheny_Portage_Railroad_NHS_(ALPO)  3.049101e+05\n",
       "6                   Andersonville_NHS_(ANDE)  2.044381e+06\n",
       "7                 Aniakchak_NM_&_PRES_(ANIA)  1.409972e+09\n",
       "8                         Antietam_NB_(ANTI)  7.719014e+06\n",
       "9          Appomattox_Court_House_NHP_(APCO)  5.899875e+06\n",
       "10                          Arches_NP_(ARCH)  3.087400e+08\n",
       "11                 Arkansas_Post_NMEM_(ARPO)  2.139591e+06\n",
       "12   Arlington_House_The_R.E._Lee_MEM_(ARHO)  7.117263e+02\n",
       "13               Assateague_Island_NS_(ASIS)  2.034580e+08\n",
       "14                     Aztec_Ruins_NM_(AZRU)  1.281497e+06\n",
       "15                        Badlands_NP_(BADL)  9.810829e+08\n",
       "16                       Bandelier_NM_(BAND)  1.364052e+08\n",
       "17                Bent's_Old_Fort_NHS_(BEOL)  3.318669e+06\n",
       "18           Bering_Land_Bridge_NPRES_(BELA)  1.126925e+10\n",
       "19                        Big_Bend_NP_(BIBE)  3.189320e+09\n",
       "20                  Big_Cypress_NPRES_(BICY)  2.949937e+09\n",
       "21                        Big_Hole_NB_(BIHO)  3.955481e+06\n",
       "22                Big_South_Fork_NRRA_(BISO)  4.957274e+08\n",
       "23                        Bighorn_Canyon_NRA  2.610730e+08\n",
       "24                               Biscayne_NP  6.318078e+08\n",
       "25           Black_Canyon_of_the_Gunnison_NP  1.268901e+08\n",
       "26                           Blue_Ridge_PKWY  3.148329e+08\n",
       "27           Brown_v._Board_of_Education_NHS  1.191251e+03\n",
       "28  Brown_v._Board_of_Education_NHS_[larger]  5.416467e+03\n",
       "29                           Bryce_Canyon_NP  1.456341e+08\n",
       "30                       Buck_Island_Reef_NM  6.933557e+05\n",
       "31                                Buffalo_NR  3.764839e+08\n",
       "32                               Cabrillo_NM  6.475333e+05\n",
       "33                       Canyon_de_Chelly_NM  3.737744e+08\n",
       "34                            Canyonlands_NP  1.339741e+09\n",
       "35                               Cape_Cod_NS  1.706828e+08"
      ]
     },
     "execution_count": 11,
     "metadata": {},
     "output_type": "execute_result"
    }
   ],
   "source": [
    "places"
   ]
  },
  {
   "cell_type": "code",
   "execution_count": 12,
   "metadata": {
    "collapsed": true
   },
   "outputs": [],
   "source": [
    "path = '../data/place_np_area.csv'\n",
    "places.to_csv(path)"
   ]
  },
  {
   "cell_type": "markdown",
   "metadata": {},
   "source": [
    " "
   ]
  },
  {
   "cell_type": "markdown",
   "metadata": {},
   "source": [
    " "
   ]
  },
  {
   "cell_type": "markdown",
   "metadata": {},
   "source": [
    " "
   ]
  },
  {
   "cell_type": "markdown",
   "metadata": {},
   "source": [
    " "
   ]
  },
  {
   "cell_type": "markdown",
   "metadata": {},
   "source": [
    " "
   ]
  },
  {
   "cell_type": "markdown",
   "metadata": {},
   "source": [
    " "
   ]
  },
  {
   "cell_type": "markdown",
   "metadata": {},
   "source": [
    " "
   ]
  },
  {
   "cell_type": "markdown",
   "metadata": {},
   "source": [
    " "
   ]
  },
  {
   "cell_type": "markdown",
   "metadata": {},
   "source": [
    " "
   ]
  },
  {
   "cell_type": "markdown",
   "metadata": {},
   "source": [
    " "
   ]
  },
  {
   "cell_type": "markdown",
   "metadata": {},
   "source": [
    " "
   ]
  },
  {
   "cell_type": "code",
   "execution_count": 94,
   "metadata": {
    "collapsed": false
   },
   "outputs": [],
   "source": [
    "def haversine(lon1, lat1, lon2, lat2):\n",
    "    from math import radians, cos, sin, asin, sqrt\n",
    "    # convert decimal degrees to radians \n",
    "    lon1, lat1, lon2, lat2 = map(radians, [lon1, lat1, lon2, lat2])\n",
    "    # haversine formula \n",
    "    dlon = lon2 - lon1 \n",
    "    dlat = lat2 - lat1 \n",
    "    a = sin(dlat/2)**2 + cos(lat1) * cos(lat2) * sin(dlon/2)**2\n",
    "    c = 2 * asin(sqrt(a)) \n",
    "    km = 6367 * c\n",
    "    m = km *1000\n",
    "    return m   \n",
    "\n",
    "def grid_line(mini, maxi, ngrid=10):\n",
    "    delta = (maxi-mini)/ngrid\n",
    "    return [(mini+i*delta, mini+(i+1)*delta) for i in range(ngrid)] \n",
    "\n",
    "\n",
    "def grid_bbox(sw, ne, ngrid=10):\n",
    "    grid_lat = grid_line(sw[0], ne[0], ngrid)\n",
    "    grid_lon = grid_line(sw[1], ne[1], ngrid)\n",
    "    grids = []\n",
    "    for i in range(ngrid):\n",
    "        for j in range(ngrid):\n",
    "            s, n = grid_lat[i]\n",
    "            w, e = grid_lon[j]\n",
    "            grids.append(((s,w),(n,e)))\n",
    "    return grids\n",
    "def area_of_grid(grid):\n",
    "    (s,w), (n,e) = grid\n",
    "    l = haversine(w,s,e,s)\n",
    "    w = haversine(e,n,e,s)\n",
    "    return l*w\n",
    "\n",
    "def swne2poly(sw,ne):\n",
    "    return shpgeo.box(sw[1], sw[0], ne[1], ne[0])\n",
    "\n",
    "def area_poly(polygon, ngrid=100):\n",
    "    w,s,e,n = polygon.bounds\n",
    "    polygon.within(shpgeo.Polygon([(w,s),(e,s),(e,n),(w,n)]))\n",
    "    grids = grid_bbox((s,w),(n,e),ngrid)\n",
    "    unit_area = area_of_grid(grids[0])\n",
    "    grids = [swne2poly(*grid)for grid in grids]\n",
    "    grids = [grid for grid in grids if grid.intersects(polygon)]\n",
    "    return len(grids)*unit_area"
   ]
  }
 ],
 "metadata": {
  "kernelspec": {
   "display_name": "Python 2",
   "language": "python",
   "name": "python2"
  },
  "language_info": {
   "codemirror_mode": {
    "name": "ipython",
    "version": 2
   },
   "file_extension": ".py",
   "mimetype": "text/x-python",
   "name": "python",
   "nbconvert_exporter": "python",
   "pygments_lexer": "ipython2",
   "version": "2.7.11"
  }
 },
 "nbformat": 4,
 "nbformat_minor": 0
}
