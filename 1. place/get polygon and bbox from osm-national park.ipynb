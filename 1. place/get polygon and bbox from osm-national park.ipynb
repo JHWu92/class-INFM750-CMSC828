{
 "cells": [
  {
   "cell_type": "code",
   "execution_count": 1,
   "metadata": {
    "collapsed": true
   },
   "outputs": [],
   "source": [
    "import glob\n",
    "from osmread import parse_file, Way,Node,Relation\n",
    "import shapely.geometry as shpgeo\n",
    "import shapely.ops as shpop\n",
    "import overpy\n",
    "from shapely.ops import linemerge\n",
    "import time\n",
    "import geopandas as gp"
   ]
  },
  {
   "cell_type": "code",
   "execution_count": 2,
   "metadata": {
    "collapsed": false
   },
   "outputs": [
    {
     "data": {
      "text/plain": [
       "<property at 0x446ee58>"
      ]
     },
     "execution_count": 2,
     "metadata": {},
     "output_type": "execute_result"
    }
   ],
   "source": [
    "api = overpy.Overpass()\n",
    "shpgeo.Polygon.centroid"
   ]
  },
  {
   "cell_type": "code",
   "execution_count": 9,
   "metadata": {
    "collapsed": false
   },
   "outputs": [],
   "source": [
    "\n",
    "def node2pt(node):\n",
    "    return shpgeo.Point(node.lon,node.lat)\n",
    "def lonlat_in_way(way):\n",
    "    coors = []\n",
    "    for node in way.nodes:\n",
    "        coors.append((node.lon, node.lat))\n",
    "    return coors\n",
    "def is_closed_way(way):\n",
    "    return way.nodes[0] == way.nodes[-1]\n",
    "\n",
    "def get_relation(relation,need_api=True):\n",
    "    while True:\n",
    "        try:\n",
    "            if need_api:\n",
    "                relation = api.query(\"\"\"\n",
    "                relation(%s);\n",
    "                (._;>;);\n",
    "                out;\n",
    "                \"\"\" % relation.id).relations[0]\n",
    "            break\n",
    "        except Exception as e:\n",
    "            print e\n",
    "            time.sleep(10)\n",
    "    return relation\n",
    "\n",
    "def way2line(way,need_api=True):\n",
    "    while True:\n",
    "        try:\n",
    "            if need_api:\n",
    "                way = api.query(\"\"\"\n",
    "                way(%s);\n",
    "                (._;>;);\n",
    "                out;\n",
    "                \"\"\"% way.id).ways[0]\n",
    "            break\n",
    "        except Exception as e:\n",
    "            print e\n",
    "            time.sleep(10)\n",
    "    coors = lonlat_in_way(way)\n",
    "    return shpgeo.LineString(coors)\n",
    "\n",
    "def haversine(lon1, lat1, lon2, lat2):\n",
    "    \"\"\"\n",
    "    Calculate the great circle distance between two points \n",
    "    on the earth (specified in decimal degrees)\n",
    "    \"\"\"\n",
    "    from math import radians, cos, sin, asin, sqrt\n",
    "    # convert decimal degrees to radians \n",
    "    lon1, lat1, lon2, lat2 = map(radians, [lon1, lat1, lon2, lat2])\n",
    "    # haversine formula \n",
    "    dlon = lon2 - lon1 \n",
    "    dlat = lat2 - lat1 \n",
    "    a = sin(dlat/2)**2 + cos(lat1) * cos(lat2) * sin(dlon/2)**2\n",
    "    c = 2 * asin(sqrt(a)) \n",
    "    km = 6367 * c\n",
    "    m = km *1000\n",
    "    return m\n",
    "       \n",
    "def handle_poly(name_pattern,poly):\n",
    "    ext_coords = poly.exterior.coords\n",
    "    centr = poly.centroid\n",
    "    radius = get_max_dis_from_center_to_ext(centr, ext_coords)\n",
    "    center_str = '%.6f,%.6f' %(centr.coords[0][0], centr.coords[0][1])\n",
    "    return '%s\\t%s\\t%s\\t%s\\n' %(name_pattern, center_str, radius, list(poly.exterior.coords))\n",
    "    "
   ]
  },
  {
   "cell_type": "code",
   "execution_count": 13,
   "metadata": {
    "collapsed": true
   },
   "outputs": [],
   "source": [
    "def remove_equal_shpobj(objs):\n",
    "    import rtree\n",
    "    size = len(objs)\n",
    "    equal_pair = []\n",
    "    keep = []\n",
    "    exclude_idx = set()\n",
    "\n",
    "    tree_idx = rtree.index.Index()\n",
    "    objs_bounds = [o.bounds for o in objs]\n",
    "    for i in xrange(size):\n",
    "        try:\n",
    "            tree_idx.insert(i, objs_bounds[i])\n",
    "        except Exception as e:\n",
    "            print i, objs_bounds[i], objs[i]\n",
    "            raise e\n",
    "\n",
    "    for i in xrange(size):\n",
    "        if i in exclude_idx:\n",
    "            continue\n",
    "        keep.append(i)\n",
    "        js = tree_idx.intersection(objs[i].bounds)\n",
    "        for j in js:\n",
    "            if i!=j and objs[i].equals(objs[j]):\n",
    "                equal_pair.append((i,int(j)))\n",
    "                exclude_idx.add(j)\n",
    "\n",
    "    return keep, equal_pair\n",
    "def remove_equal_shpobj(objs):\n",
    "    import rtree\n",
    "    size = len(objs)\n",
    "    equal_pair = []\n",
    "    keep = []\n",
    "    exclude_idx = set()\n",
    "\n",
    "    tree_idx = rtree.index.Index()\n",
    "    objs_bounds = [o.bounds for o in objs]\n",
    "    for i in xrange(size):\n",
    "        try:\n",
    "            tree_idx.insert(i, objs_bounds[i])\n",
    "        except Exception as e:\n",
    "            print i, objs_bounds[i], objs[i]\n",
    "            raise e\n",
    "\n",
    "    for i in xrange(size):\n",
    "        if i in exclude_idx:\n",
    "            continue\n",
    "        keep.append(i)\n",
    "        js = tree_idx.intersection(objs[i].bounds)\n",
    "        for j in js:\n",
    "            if i!=j and objs[i].equals(objs[j]):\n",
    "                equal_pair.append((i,int(j)))\n",
    "                exclude_idx.add(j)\n",
    "\n",
    "    return keep, equal_pair\n",
    "def rltn2dictShp(relation, sub_rltn=False):\n",
    "    nodes, ways, sub_nodes, sub_ways = [], [], [], []\n",
    "    for m in relation.members:\n",
    "        obj = m.resolve()\n",
    "        if isinstance(obj, overpy.Node):\n",
    "            nodes.append(obj)\n",
    "        elif isinstance(obj, overpy.Way):\n",
    "            ways.append(obj)\n",
    "        elif isinstance(obj, overpy.Relation):\n",
    "            r_nodes, r_ways = rltn2dictShp(osm_container, obj, True)\n",
    "            sub_nodes.extend(r_nodes)\n",
    "            sub_ways.extend(r_ways)\n",
    "    if sub_rltn:\n",
    "        return nodes, ways\n",
    "    nodes.extend([node for node in sub_nodes])\n",
    "    ways.extend([way for way in sub_ways])\n",
    "\n",
    "    points = [node2pt(node) for node in nodes]\n",
    "    keep_pts_idx, _ = remove_equal_shpobj(points)\n",
    "    points = [p for cnt, p in enumerate(points) if cnt in keep_pts_idx]\n",
    "\n",
    "    lines = [way2line(way,False) for way in ways]\n",
    "    keep_lines_idx, _ = remove_equal_shpobj(lines)\n",
    "    lines = [l for cnt, l in enumerate(lines) if cnt in keep_lines_idx]\n",
    "\n",
    "    dict_shp= { 'LineString': [], 'Polygon': []}\n",
    "    if lines:\n",
    "        merged = linemerge(lines)\n",
    "        if merged.type == 'LineString':\n",
    "            merged = [merged]\n",
    "        else:\n",
    "            merged = list(merged)\n",
    "        for ln in merged:\n",
    "            if ln.is_ring:\n",
    "                dict_shp['Polygon'].append(shpgeo.Polygon(ln))\n",
    "            else:\n",
    "                dict_shp['LineString'].append(ln)\n",
    "    return dict_shp\n",
    "def merge_within_by_list_shp(list_shp):\n",
    "    import geopandas as gp\n",
    "    import pandas as pd\n",
    "    from other_utils import find_tree\n",
    "    gpdf = gp.GeoDataFrame(list_shp,columns=['geometry'])\n",
    "    sjoin = gp.tools.sjoin(gpdf,gpdf,op='within')\n",
    "    messy_tree_df = pd.DataFrame(zip(sjoin.index.values, sjoin.index_right.values), columns=['node','parent'])\n",
    "    clean_tree_df = find_tree(messy_tree_df)\n",
    "    top_level_shp_idx = clean_tree_df[clean_tree_df.parent==-1].node.values\n",
    "    return gpdf[gpdf.index.isin(top_level_shp_idx)].values\n",
    "\n",
    "def rltn2mergedListShp( relation):\n",
    "    shpcltn = rltn2dictShp(relation)\n",
    "    list_shp = []\n",
    "    for l in shpcltn.values():\n",
    "        list_shp += l\n",
    "    merge_list_shp = merge_within_by_list_shp(list_shp)\n",
    "    return merge_list_shp\n",
    "\n",
    "\n",
    "def rltn2mergedFlattenListShp(relation):\n",
    "    merge_list_shp = rltn2mergedListShp(relation)\n",
    "    flat_shpcltn = []\n",
    "    for shpobjs in merge_list_shp:\n",
    "        flat_shpcltn.extend(shpobjs)\n",
    "    return flat_shpcltn\n",
    "\n",
    "def rltn2convexhull(relation):\n",
    "    return shpgeo.MultiPolygon(rltn2mergedFlattenListShp(relation)).convex_hull"
   ]
  },
  {
   "cell_type": "code",
   "execution_count": 14,
   "metadata": {
    "collapsed": false
   },
   "outputs": [],
   "source": [
    "import sys, os\n",
    "sys.path.insert(0, os.path.abspath('..'))\n",
    "sys.path.insert(0, os.path.abspath('../utils'))\n"
   ]
  },
  {
   "cell_type": "code",
   "execution_count": 18,
   "metadata": {
    "collapsed": false,
    "scrolled": true
   },
   "outputs": [],
   "source": [
    "\n",
    "def get_max_dis_from_center_to_ext(centr,ext_coords):\n",
    "    lon1, lat1 = centr\n",
    "    return max([haversine(lon1,lat1, lon2,lat2) for lon2, lat2 in ext_coords])\n",
    "\n",
    "def get_cntr_radius(poly):\n",
    "    cntr = poly.centroid.coords[0]\n",
    "    ext_coords = poly.exterior.coords\n",
    "    radius = get_max_dis_from_center_to_ext(cntr, ext_coords)\n",
    "    return cntr, radius, ext_coords\n",
    "\n",
    "def osm2polys(osm_data):\n",
    "    if isinstance(osm_data, Way):\n",
    "        ln = way2line(osm_data)\n",
    "        poly = shpgeo.Polygon(ln)\n",
    "        return [poly]\n",
    "    if isinstance(osm_data, Relation):\n",
    "        r = get_relation(osm_data)\n",
    "        return rltn2mergedFlattenListShp(r)\n",
    "\n",
    "def osms2flattenPolys(data_file_dir, geojson_file):\n",
    "    place_polys = []\n",
    "    for i, file_path in enumerate(glob.glob(data_file_dir+'/*')):\n",
    "#         if i<=40:\n",
    "#             continue\n",
    "#         if i >41:\n",
    "#             break\n",
    "        _, place = file_path.split('\\\\')\n",
    "        place = place[:-4].replace(' ','_')\n",
    "        osm_data = parse_file(file_path)\n",
    "        osm_data = list(osm_data)\n",
    "        assert len(osm_data)==1, '{}th {}: len!=0'.format(i, file_path)\n",
    "        print i, place, len(list(osm_data))\n",
    "        osm_data = osm_data[0]\n",
    "        polys = osm2polys(osm_data)\n",
    "        for cnt, poly in enumerate(polys):\n",
    "            cntr, radius, ext_coords = get_cntr_radius(poly)\n",
    "            place_polys.append(['{}##{}'.format(place,cnt), cntr, radius+1000, poly])\n",
    "        \n",
    "    print len(place_polys)\n",
    "    return place_polys\n"
   ]
  },
  {
   "cell_type": "code",
   "execution_count": 16,
   "metadata": {
    "collapsed": true
   },
   "outputs": [],
   "source": [
    "\n",
    "OSM_XML_DIR = u'../data/OSM_national_park@US/'\n",
    "PLACE_POLYS_NP = '../data/place_polys_np.geojson'\n",
    "PLACE_POLYS_NP_BFR5 = '../data/place_polys_np_5m.geojson'\n",
    "PLACE_POLYS_NP_BFR10 = '../data/place_polys_np_10m.geojson'\n",
    "PLACE_POLYS_NP_BFR50 = '../data/place_polys_np_50m.geojson'\n",
    "PLACE_POLYS_NP_BFR100 = '../data/place_polys_np_100m.geojson'\n",
    "\n",
    "PLACE_POLYS_NP_CONVEX = '../data/place_polys_np_convex.geojson'\n",
    "PLACE_POLYS_NP_CONVEX_BFR5 = '../data/place_polys_np_convex_5m.geojson'\n",
    "PLACE_POLYS_NP_CONVEX_BFR10 = '../data/place_polys_np_convex_10m.geojson'\n",
    "PLACE_POLYS_NP_CONVEX_BFR50 = '../data/place_polys_np_convex_50m.geojson'\n",
    "PLACE_POLYS_NP_CONVEX_BFR100 = '../data/place_polys_np_convex_100m.geojson'"
   ]
  },
  {
   "cell_type": "code",
   "execution_count": 19,
   "metadata": {
    "collapsed": false
   },
   "outputs": [
    {
     "name": "stdout",
     "output_type": "stream",
     "text": [
      "0 Acadia_NP_(ACAD) 1\n",
      "1 Adams_NHP 1\n",
      "2 African_Burial_Ground_NM_(AFBG) 1\n",
      "3 Agate_Fossil_Beds_NM 1\n",
      "4 Alibates_Flint_Quarries_NM_(ALFL) 1\n",
      "5 Allegheny_Portage_Railroad_NHS_(ALPO) 1\n",
      "6 Andersonville_NHS_(ANDE) 1\n",
      "7 Aniakchak_NM_&_PRES_(ANIA)1 1\n",
      "8 Aniakchak_NM_&_PRES_(ANIA)2 1\n",
      "9 Antietam_NB_(ANTI) 1\n",
      "10 Appomattox_Court_House_NHP_(APCO) 1\n",
      "11 Arches_NP_(ARCH) 1\n",
      "12 Arkansas_Post_NMEM_(ARPO) 1\n",
      "13 Arlington_House_The_R.E._Lee_MEM_(ARHO) 1\n",
      "14 Assateague_Island_NS_(ASIS) 1\n",
      "15 Aztec_Ruins_NM_(AZRU) 1\n",
      "16 Badlands_NP_(BADL) 1\n",
      "17 Bandelier_NM_(BAND) 1\n",
      "18 Bent's_Old_Fort_NHS_(BEOL) 1\n",
      "19 Bering_Land_Bridge_NPRES_(BELA) 1\n",
      "20 Big_Bend_NP_(BIBE) 1\n",
      "21 Big_Cypress_NPRES_(BICY) 1\n",
      "22 Big_Hole_NB_(BIHO) 1\n",
      "23 Big_South_Fork_NRRA_(BISO) 1\n",
      "24 Bighorn_Canyon_NRA 1\n",
      "25 Biscayne_NP 1\n",
      "26 Black_Canyon_of_the_Gunnison_NP 1\n",
      "27 Blue_Ridge_PKWY 1\n",
      "28 Blue_Ridge_pwky 1\n",
      "29 Brown_v._Board_of_Education_NHS_[larger] 1\n",
      "30 Brown_v._Board_of_Education_NHS 1\n",
      "31 Bryce_Canyon_NP 1\n",
      "32 Buck_Island_Reef_NM 1\n",
      "33 Buffalo_NR 1\n",
      "34 Cabrillo_NM 1\n",
      "35 Canyon_de_Chelly_NM 1\n",
      "36 Canyonlands_NP1 1\n",
      "37 Canyonlands_NP2 1\n",
      "38 Canyonlands_NP3 1\n",
      "39 Cape_Cod_NS 1\n",
      "40 Cape_Hatteras_NS 1\n",
      "41 Cape_Lookout_NS 1\n",
      "42 Capitol_Reef_NP 1\n",
      "43 Capulin_Volcano_NM 1\n",
      "44 Carl_Sandburg_Home_NHS 1\n",
      "45 Carlsbad_Caverns_NP 1\n",
      "46 Casa_Grande_Ruins_NM 1\n",
      "47 Castillo_de_San_Marcos_NM 1\n",
      "48 Catoctin_Mountain_Park 1\n",
      "49 Cedar_Breaks_NM 1\n",
      "50 Cesar_E._Chavez_NM 1\n",
      "51 Chaco_Culture_NHP 1\n",
      "52 Chamizal_NMEM 1\n",
      "53 Channel_Islands_NP 1\n",
      "54 Chesapeake_&_Ohio_Canal_NHP 1\n",
      "55 Chiricahua_NM 1\n",
      "56 City_of_Rocks_NRES 1\n",
      "57 Colonial_NHP 1\n",
      "58 Crater_Lake_NP 1\n",
      "59 Craters_of_the_Moon_NM 1\n",
      "60 Curecanti_NRA 1\n",
      "61 Cuyahoga_Valley_NP 1\n",
      "62 Dayton_Aviation_Heritage_NHP 1\n",
      "63 De_Soto_NMEM 1\n",
      "64 Death_Valley_NP 1\n",
      "65 Delaware_Water_Gap_NRA 1\n",
      "66 Denali_NP_&_PRES 1\n",
      "67 Devils_Postpile_NM 1\n",
      "186\n"
     ]
    }
   ],
   "source": [
    "update_polys=True\n",
    "if update_polys:\n",
    "    place_polys = osms2flattenPolys(OSM_XML_DIR,PLACE_POLYS_NP)\n",
    "    place_polys_gpdf = gp.GeoDataFrame(place_polys,columns=['place', 'cntr','radius','geometry'])\n",
    "else:\n",
    "    place_polys_gpdf = gp.read_file(PLACE_POLYS_NP)\n",
    "place_polys_gpdf.crs = {'init': 'epsg:4326', 'no_defs': True}"
   ]
  },
  {
   "cell_type": "code",
   "execution_count": 20,
   "metadata": {
    "collapsed": false
   },
   "outputs": [],
   "source": [
    "place_polys_gpdf.cntr = place_polys_gpdf.cntr.apply(str)\n",
    "with open(PLACE_POLYS_NP,'w') as f:\n",
    "    f.write(place_polys_gpdf.to_json())"
   ]
  },
  {
   "cell_type": "code",
   "execution_count": 21,
   "metadata": {
    "collapsed": false
   },
   "outputs": [],
   "source": [
    "place_polys_gpdf_tw = place_polys_gpdf.copy()\n",
    "place_polys_gpdf_tw['date_until'] = '2099-01-01'\n",
    "place_polys_gpdf_tw[['place','date_until','radius','cntr','geometry']].to_csv('../data/place_polys_np_tw.csv')"
   ]
  },
  {
   "cell_type": "code",
   "execution_count": 22,
   "metadata": {
    "collapsed": true
   },
   "outputs": [],
   "source": [
    "def substract_overlap(subtrahend, minuend):\n",
    "    subtra_place, subtra_poly = subtrahend['place##cnt'], subtrahend.geometry\n",
    "    for _,m_place,m_poly in minuend[['place##cnt','geometry']].itertuples():\n",
    "        if subtra_place!=m_place and subtra_poly.distance(m_poly)==0:\n",
    "            subtra_poly -= m_poly\n",
    "    return subtra_poly"
   ]
  },
  {
   "cell_type": "code",
   "execution_count": 23,
   "metadata": {
    "collapsed": false
   },
   "outputs": [],
   "source": [
    "# place_polys_gpdf.geometry = place_polys_gpdf.geometry.apply(lambda x:x.convex_hull)\n",
    "# # place_polys_gpdf.geometry = place_polys_gpdf.apply(lambda x: substract_overlap(x, place_polys_gpdf), axis=1)\n",
    "# with open(PLACE_POLYS_NP_CONVEX,'w') as f:\n",
    "#     f.write(place_polys_gpdf.to_json())"
   ]
  },
  {
   "cell_type": "code",
   "execution_count": 24,
   "metadata": {
    "collapsed": true
   },
   "outputs": [],
   "source": [
    "usa_crs = {'proj': 'aea' ,'lat_1':29.5,'lat_2':45.5,'lat_0':37.5 ,'lon_0':-96 ,\n",
    "           'x_0':0, 'y_0':0, 'datum':'NAD83', 'units':'m', 'no_defs':True}"
   ]
  },
  {
   "cell_type": "code",
   "execution_count": 25,
   "metadata": {
    "collapsed": false,
    "scrolled": true
   },
   "outputs": [],
   "source": [
    "def get_n_write_bfr_gpdf(gpdf, bfr, crs, file_path):\n",
    "    gpdf_bfr = gpdf.to_crs(crs=crs)\n",
    "    gpdf_bfr.geometry = gpdf_bfr.buffer(bfr)\n",
    "    gpdf_bfr = gpdf_bfr.to_crs(epsg=4326)\n",
    "    with open(file_path,'w')as f:\n",
    "        f.write(gpdf_bfr.to_json())\n",
    "    return gpdf_bfr\n",
    "\n",
    "place_polys_gpdf_bfr5 = get_n_write_bfr_gpdf(place_polys_gpdf, 5, usa_crs,PLACE_POLYS_NP_BFR5)\n",
    "place_polys_gpdf_bfr10 = get_n_write_bfr_gpdf(place_polys_gpdf, 10, usa_crs,PLACE_POLYS_NP_BFR10)    \n",
    "place_polys_gpdf_bfr50 = get_n_write_bfr_gpdf(place_polys_gpdf, 50, usa_crs,PLACE_POLYS_NP_BFR50)\n",
    "place_polys_gpdf_bfr100 = get_n_write_bfr_gpdf(place_polys_gpdf, 100, usa_crs,PLACE_POLYS_NP_BFR100)"
   ]
  },
  {
   "cell_type": "code",
   "execution_count": 26,
   "metadata": {
    "collapsed": true
   },
   "outputs": [],
   "source": [
    "import sys\n",
    "sys.path.insert(0, os.path.abspath('..'))\n",
    "from leaflet_creation_v2 import create_map_visualization"
   ]
  },
  {
   "cell_type": "code",
   "execution_count": 27,
   "metadata": {
    "collapsed": true
   },
   "outputs": [],
   "source": [
    "# check whether there is obvious mistake of places,\n",
    "# for example, use the national protrait gallery in DC for the NPG in England\n",
    "html_title = 'usa np'\n",
    "file_name = 'usa np'\n",
    "lon, lat  = -96, 37.5\n",
    "zoom = 12\n",
    "init_layers = ['streets', 'stsg_layer']\n",
    "map_layers = ['light','streets']\n",
    "binding_data=[['stsg','street segment']]\n",
    "place_polys_gpdf_vis = place_polys_gpdf_bfr100.copy()\n",
    "place_polys_gpdf_vis['color'] = '#F00'\n",
    "gpdfs = [place_polys_gpdf_vis]\n",
    "create_map_visualization(html_title, file_name, lat, lon, zoom, init_layers, map_layers, binding_data, gpdfs)"
   ]
  },
  {
   "cell_type": "code",
   "execution_count": null,
   "metadata": {
    "collapsed": true
   },
   "outputs": [],
   "source": []
  },
  {
   "cell_type": "markdown",
   "metadata": {},
   "source": [
    "###  test us-wide projection"
   ]
  },
  {
   "cell_type": "code",
   "execution_count": 134,
   "metadata": {
    "collapsed": false,
    "scrolled": true
   },
   "outputs": [
    {
     "data": {
      "text/plain": [
       "(-95.729218, 42.0220845)"
      ]
     },
     "execution_count": 134,
     "metadata": {},
     "output_type": "execute_result"
    }
   ],
   "source": [
    "sw = (25.020411, -125.048042)\n",
    "ne = (49.308516, -66.410394 )\n",
    "# sw = (37.8800,-79.4900)\n",
    "# ne = (39.7200,-74.9800)\n",
    " \n",
    "import sys,os\n",
    "sys.path.insert(0, os.path.abspath('../'))\n",
    "from utils.geofunc import grid_area, haversine\n",
    "import itertools\n",
    "test_points = [shpgeo.Point(x[1],x[0]) for x in list(set(itertools.chain(*grid_area(sw,ne))))]\n",
    "pt = test_points[0]\n",
    "pt.coords[0]"
   ]
  },
  {
   "cell_type": "code",
   "execution_count": 104,
   "metadata": {
    "collapsed": false
   },
   "outputs": [
    {
     "ename": "ImportError",
     "evalue": "No module named proj",
     "output_type": "error",
     "traceback": [
      "\u001b[1;31m---------------------------------------------------------------------------\u001b[0m",
      "\u001b[1;31mImportError\u001b[0m                               Traceback (most recent call last)",
      "\u001b[1;32m<ipython-input-104-7e230b424e76>\u001b[0m in \u001b[0;36m<module>\u001b[1;34m()\u001b[0m\n\u001b[0;32m      1\u001b[0m \u001b[1;32mimport\u001b[0m \u001b[0mnumpy\u001b[0m \u001b[1;32mas\u001b[0m \u001b[0mnp\u001b[0m\u001b[1;33m\u001b[0m\u001b[0m\n\u001b[1;32m----> 2\u001b[1;33m \u001b[1;32mimport\u001b[0m \u001b[0mproj\u001b[0m\u001b[1;33m\u001b[0m\u001b[0m\n\u001b[0m",
      "\u001b[1;31mImportError\u001b[0m: No module named proj"
     ]
    }
   ],
   "source": [
    "import numpy as np\n",
    "import pyproj"
   ]
  },
  {
   "cell_type": "code",
   "execution_count": 106,
   "metadata": {
    "collapsed": false,
    "scrolled": true
   },
   "outputs": [
    {
     "data": {
      "text/plain": [
       "(array([1318,  802,  608,  562,  498,  496,  540,  650,  628, 1752]),\n",
       " array([  851079.59824354,   877096.75189367,   903113.90554379,\n",
       "          929131.05919392,   955148.21284404,   981165.36649417,\n",
       "         1007182.52014429,  1033199.67379442,  1059216.82744454,\n",
       "         1085233.98109467,  1111251.13474479]))"
      ]
     },
     "execution_count": 106,
     "metadata": {},
     "output_type": "execute_result"
    }
   ],
   "source": [
    "dist = []\n",
    "for pt in test_points:\n",
    "    dist.extend([haversine(pt.coords[0][0],pt.coords[0][1],x[0],x[1])for x in list(pt.buffer(10).exterior.coords)])\n",
    "np_dist = np.array(dist)\n",
    "np.histogram(np_dist)"
   ]
  },
  {
   "cell_type": "code",
   "execution_count": 96,
   "metadata": {
    "collapsed": true
   },
   "outputs": [],
   "source": [
    "%matplotlib inline"
   ]
  },
  {
   "cell_type": "code",
   "execution_count": 136,
   "metadata": {
    "collapsed": false
   },
   "outputs": [
    {
     "name": "stdout",
     "output_type": "stream",
     "text": [
      "[  9.82659072   9.85929876   9.8920068    9.92471484   9.95742288\n",
      "   9.99013092  10.02283896  10.05554701  10.08825505  10.12096309\n",
      "  10.15367113]\n",
      "[ 19.60050829  19.64849291  19.69647752  19.74446214  19.79244675\n",
      "  19.84043137  19.88841599  19.9364006   19.98438522  20.03236983\n",
      "  20.08035445]\n",
      "[ 29.36060029  29.43461804  29.50863579  29.58265354  29.65667128\n",
      "  29.73068903  29.80470678  29.87872453  29.95274228  30.02676002\n",
      "  30.10077777]\n"
     ]
    },
    {
     "data": {
      "image/png": "[encoded data removed]",
      "text/plain": [
       "<matplotlib.figure.Figure at 0x11f6ae48>"
      ]
     },
     "metadata": {},
     "output_type": "display_data"
    }
   ],
   "source": [
    "pts = test_points\n",
    "gpdf = gp.GeoDataFrame(pts, columns=['geometry'])\n",
    "gpdf.crs = {'init': 'epsg:4326', 'no_defs': True}\n",
    "crss =[ \n",
    "    {'proj': 'aea' ,'lat_1':29.5,'lat_2':45.5,'lat_0':37.5 ,'lon_0':-96 ,'x_0':0, 'y_0':0, 'datum':'NAD83', 'units':'m', 'no_defs':True},\n",
    "    {'proj': 'lcc' ,'lat_1':33,'lat_2':45,'lat_0':39 ,'lon_0':-96 ,'x_0':0, 'y_0':0, 'datum':'NAD83', 'units':'m', 'no_defs':True},\n",
    "    {'proj': 'eqdc' ,'lat_1':33,'lat_2':45,'lat_0':39 ,'lon_0':-96 ,'x_0':0, 'y_0':0, 'datum':'NAD83', 'units':'m', 'no_defs':True}\n",
    "]\n",
    "for crs in crss:\n",
    "    gpdf = gpdf.to_crs(crs=crs)\n",
    "#     gpdf = gpdf.to_crs(epsg=3559)\n",
    "    gpdf['geometry'] = gpdf.buffer(10)\n",
    "    gpdf = gpdf.to_crs(epsg=4326)\n",
    "    dist = []\n",
    "    for pt, pt_bfr in zip(pts, gpdf.geometry.values):\n",
    "#         print pt, pt_bfr.exterior.coords[0]\n",
    "        dist.extend([haversine(pt.coords[0][0],pt.coords[0][1],x[0],x[1])for x in list(pt_bfr.exterior.coords)])\n",
    "    np_dist = np.array(dist)\n",
    "    print np.histogram(np_dist)[1]\n",
    "    gp.GeoDataFrame([np_dist]).loc[0].hist()\n",
    "#     break"
   ]
  },
  {
   "cell_type": "code",
   "execution_count": null,
   "metadata": {
    "collapsed": true
   },
   "outputs": [],
   "source": [
    "[haversine(pt.coords[0][1],pt.coords[0][0],x[1],x[0])for x in list(pt_bfr.exterior.coords)]"
   ]
  },
  {
   "cell_type": "code",
   "execution_count": 119,
   "metadata": {
    "collapsed": false
   },
   "outputs": [
    {
     "data": {
      "text/plain": [
       "[(-77.68599999999999, 38.616)]"
      ]
     },
     "execution_count": 119,
     "metadata": {},
     "output_type": "execute_result"
    }
   ],
   "source": [
    "\n",
    "list(pt.coords)"
   ]
  },
  {
   "cell_type": "code",
   "execution_count": 128,
   "metadata": {
    "collapsed": false
   },
   "outputs": [],
   "source": [
    "# idx = 5\n",
    "\n",
    "    "
   ]
  },
  {
   "cell_type": "code",
   "execution_count": null,
   "metadata": {
    "collapsed": true
   },
   "outputs": [],
   "source": [
    "EPSG:102003 USA_Contiguous_Albers_Equal_Area_Conic\n",
    "+proj=aea +lat_1=29.5 +lat_2=45.5 +lat_0=37.5 +lon_0=-96 +x_0=0 +y_0=0 +datum=NAD83 +units=m +no_defs\n",
    "\n",
    "EPSG:102004 USA_Contiguous_Lambert_Conformal_Conic\n",
    "+proj=lcc +lat_1=33 +lat_2=45 +lat_0=39 +lon_0=-96 +x_0=0 +y_0=0 +datum=NAD83 +units=m +no_defs\n",
    "\n",
    "EPSG:102005 USA_Contiguous_Equidistant_Conic\n",
    "+proj=eqdc +lat_0=39 +lon_0=-96 +lat_1=33 +lat_2=45 +x_0=0 +y_0=0 +datum=NAD83 +units=m +no_defs"
   ]
  },
  {
   "cell_type": "code",
   "execution_count": null,
   "metadata": {
    "collapsed": true
   },
   "outputs": [],
   "source": []
  }
 ],
 "metadata": {
  "kernelspec": {
   "display_name": "Python 2",
   "language": "python",
   "name": "python2"
  },
  "language_info": {
   "codemirror_mode": {
    "name": "ipython",
    "version": 2
   },
   "file_extension": ".py",
   "mimetype": "text/x-python",
   "name": "python",
   "nbconvert_exporter": "python",
   "pygments_lexer": "ipython2",
   "version": "2.7.11"
  }
 },
 "nbformat": 4,
 "nbformat_minor": 0
}
