{
 "cells": [
  {
   "cell_type": "code",
   "execution_count": 9,
   "metadata": {
    "collapsed": true
   },
   "outputs": [],
   "source": [
    "import glob\n",
    "from osmread import parse_file, Way,Node,Relation\n",
    "import shapely.geometry as shpgeo\n",
    "import overpy\n",
    "from shapely.ops import linemerge\n",
    "import time"
   ]
  },
  {
   "cell_type": "code",
   "execution_count": 2,
   "metadata": {
    "collapsed": false
   },
   "outputs": [
    {
     "data": {
      "text/plain": [
       "<property at 0x4485d68>"
      ]
     },
     "execution_count": 2,
     "metadata": {},
     "output_type": "execute_result"
    }
   ],
   "source": [
    "api = overpy.Overpass()\n",
    "shpgeo.Polygon.centroid"
   ]
  },
  {
   "cell_type": "code",
   "execution_count": 11,
   "metadata": {
    "collapsed": false
   },
   "outputs": [],
   "source": [
    "def lonlat_in_way(way):\n",
    "    coors = []\n",
    "    for node in way.nodes:\n",
    "        coors.append((node.lon, node.lat))\n",
    "    return coors\n",
    "def is_closed_way(way):\n",
    "    return way.nodes[0] == way.nodes[-1]\n",
    "\n",
    "def get_relation(relation,need_api=True):\n",
    "    while True:\n",
    "        try:\n",
    "            if need_api:\n",
    "                relation = api.query(\"\"\"\n",
    "                relation(%s);\n",
    "                (._;>;);\n",
    "                out;\n",
    "                \"\"\" % relation.id).relations[0]\n",
    "            break\n",
    "        except Exception as e:\n",
    "            print e\n",
    "            time.sleep(10)\n",
    "    return relation\n",
    "\n",
    "def way2line(way,need_api=True):\n",
    "    while True:\n",
    "        try:\n",
    "            if need_api:\n",
    "                way = api.query(\"\"\"\n",
    "                way(%s);\n",
    "                (._;>;);\n",
    "                out;\n",
    "                \"\"\"% way.id).ways[0]\n",
    "            break\n",
    "        except Exception as e:\n",
    "            print e\n",
    "            time.sleep(10)\n",
    "    coors = lonlat_in_way(way)\n",
    "    return shpgeo.LineString(coors)\n",
    "\n",
    "def haversine(lon1, lat1, lon2, lat2):\n",
    "    \"\"\"\n",
    "    Calculate the great circle distance between two points \n",
    "    on the earth (specified in decimal degrees)\n",
    "    \"\"\"\n",
    "    from math import radians, cos, sin, asin, sqrt\n",
    "    # convert decimal degrees to radians \n",
    "    lon1, lat1, lon2, lat2 = map(radians, [lon1, lat1, lon2, lat2])\n",
    "    # haversine formula \n",
    "    dlon = lon2 - lon1 \n",
    "    dlat = lat2 - lat1 \n",
    "    a = sin(dlat/2)**2 + cos(lat1) * cos(lat2) * sin(dlon/2)**2\n",
    "    c = 2 * asin(sqrt(a)) \n",
    "    km = 6367 * c\n",
    "    m = km *1000\n",
    "    return m\n",
    "       \n",
    "def handle_poly(name_pattern,poly):\n",
    "    ext_coords = poly.exterior.coords\n",
    "    centr = poly.centroid\n",
    "    radius = get_max_dis_from_center_to_ext(centr, ext_coords)\n",
    "    center_str = '%.6f,%.6f' %(centr.coords[0][0], centr.coords[0][1])\n",
    "    return '%s\\t%s\\t%s\\t%s\\n' %(name_pattern, center_str, radius, list(poly.exterior.coords))\n",
    "    "
   ]
  },
  {
   "cell_type": "code",
   "execution_count": 105,
   "metadata": {
    "collapsed": true
   },
   "outputs": [],
   "source": [
    "def remove_equal_shpobj(objs):\n",
    "    import rtree\n",
    "    size = len(objs)\n",
    "    equal_pair = []\n",
    "    keep = []\n",
    "    exclude_idx = set()\n",
    "\n",
    "    tree_idx = rtree.index.Index()\n",
    "    objs_bounds = [o.bounds for o in objs]\n",
    "    for i in xrange(size):\n",
    "        try:\n",
    "            tree_idx.insert(i, objs_bounds[i])\n",
    "        except Exception as e:\n",
    "            print i, objs_bounds[i], objs[i]\n",
    "            raise e\n",
    "\n",
    "    for i in xrange(size):\n",
    "        if i in exclude_idx:\n",
    "            continue\n",
    "        keep.append(i)\n",
    "        js = tree_idx.intersection(objs[i].bounds)\n",
    "        for j in js:\n",
    "            if i!=j and objs[i].equals(objs[j]):\n",
    "                equal_pair.append((i,int(j)))\n",
    "                exclude_idx.add(j)\n",
    "\n",
    "    return keep, equal_pair\n",
    "def remove_equal_shpobj(objs):\n",
    "    import rtree\n",
    "    size = len(objs)\n",
    "    equal_pair = []\n",
    "    keep = []\n",
    "    exclude_idx = set()\n",
    "\n",
    "    tree_idx = rtree.index.Index()\n",
    "    objs_bounds = [o.bounds for o in objs]\n",
    "    for i in xrange(size):\n",
    "        try:\n",
    "            tree_idx.insert(i, objs_bounds[i])\n",
    "        except Exception as e:\n",
    "            print i, objs_bounds[i], objs[i]\n",
    "            raise e\n",
    "\n",
    "    for i in xrange(size):\n",
    "        if i in exclude_idx:\n",
    "            continue\n",
    "        keep.append(i)\n",
    "        js = tree_idx.intersection(objs[i].bounds)\n",
    "        for j in js:\n",
    "            if i!=j and objs[i].equals(objs[j]):\n",
    "                equal_pair.append((i,int(j)))\n",
    "                exclude_idx.add(j)\n",
    "\n",
    "    return keep, equal_pair\n",
    "def rltn2dictShp(relation, sub_rltn=False):\n",
    "    nodes, ways, sub_nodes, sub_ways = [], [], [], []\n",
    "    for m in relation.members:\n",
    "        obj = m.resolve()\n",
    "        if isinstance(obj, overpy.Node):\n",
    "            nodes.append(obj)\n",
    "        elif isinstance(obj, overpy.Way):\n",
    "            ways.append(obj)\n",
    "        elif isinstance(obj, overpy.Relation):\n",
    "            r_nodes, r_ways = rltn2dictShp(osm_container, obj, True)\n",
    "            sub_nodes.extend(r_nodes)\n",
    "            sub_ways.extend(r_ways)\n",
    "    if sub_rltn:\n",
    "        return nodes, ways\n",
    "    nodes.extend([node for node in sub_nodes])\n",
    "    ways.extend([way for way in sub_ways])\n",
    "\n",
    "    points = [node2pt(node) for node in nodes]\n",
    "    keep_pts_idx, _ = remove_equal_shpobj(points)\n",
    "    points = [p for cnt, p in enumerate(points) if cnt in keep_pts_idx]\n",
    "\n",
    "    lines = [way2line(way,False) for way in ways]\n",
    "    keep_lines_idx, _ = remove_equal_shpobj(lines)\n",
    "    lines = [l for cnt, l in enumerate(lines) if cnt in keep_lines_idx]\n",
    "\n",
    "    dict_shp= {'Point': points, 'LineString': [], 'Polygon': []}\n",
    "    if lines:\n",
    "        merged = linemerge(lines)\n",
    "        if merged.type == 'LineString':\n",
    "            merged = [merged]\n",
    "        else:\n",
    "            merged = list(merged)\n",
    "        for ln in merged:\n",
    "            if ln.is_ring:\n",
    "                dict_shp['Polygon'].append(shpgeo.Polygon(ln))\n",
    "            else:\n",
    "                dict_shp['LineString'].append(ln)\n",
    "    return dict_shp\n",
    "def merge_within_by_list_shp(list_shp):\n",
    "    import geopandas as gp\n",
    "    import pandas as pd\n",
    "    from other_utils import find_tree\n",
    "    gpdf = gp.GeoDataFrame(list_shp,columns=['geometry'])\n",
    "    sjoin = gp.tools.sjoin(gpdf,gpdf,op='within')\n",
    "    messy_tree_df = pd.DataFrame(zip(sjoin.index.values, sjoin.index_right.values), columns=['node','parent'])\n",
    "    clean_tree_df = find_tree(messy_tree_df)\n",
    "    top_level_shp_idx = clean_tree_df[clean_tree_df.parent==-1].node.values\n",
    "    return gpdf[gpdf.index.isin(top_level_shp_idx)].values\n",
    "\n",
    "def rltn2mergedListShp( relation):\n",
    "    shpcltn = rltn2dictShp(relation)\n",
    "    list_shp = []\n",
    "    for l in shpcltn.values():\n",
    "        list_shp += l\n",
    "    merge_list_shp = merge_within_by_list_shp(list_shp)\n",
    "    return merge_list_shp\n",
    "\n",
    "\n",
    "def rltn2mergedFlattenListShp(relation):\n",
    "    merge_list_shp = rltn2mergedListShp(relation)\n",
    "    flat_shpcltn = []\n",
    "    for shpobjs in merge_list_shp:\n",
    "        flat_shpcltn.extend(shpobjs)\n",
    "    return flat_shpcltn\n",
    "\n",
    "def rltn2convexhull(relation):\n",
    "    return shpgeo.MultiPolygon(rltn2mergedFlattenListShp(relation)).convex_hull"
   ]
  },
  {
   "cell_type": "code",
   "execution_count": 89,
   "metadata": {
    "collapsed": false
   },
   "outputs": [],
   "source": [
    "import sys, os\n",
    "sys.path.insert(0, os.path.abspath('..'))\n",
    "sys.path.insert(0, os.path.abspath('../utils'))\n"
   ]
  },
  {
   "cell_type": "code",
   "execution_count": 110,
   "metadata": {
    "collapsed": false,
    "scrolled": true
   },
   "outputs": [],
   "source": [
    "\n",
    "def get_max_dis_from_center_to_ext(centr,ext_coords):\n",
    "    lon1, lat1 = centr\n",
    "    return max([haversine(lon1,lat1, lon2,lat2) for lon2, lat2 in ext_coords])\n",
    "\n",
    "def get_cntr_radius(poly):\n",
    "    cntr = poly.centroid.coords[0]\n",
    "    ext_coords = poly.exterior.coords\n",
    "    radius = get_max_dis_from_center_to_ext(cntr, ext_coords)\n",
    "    return cntr, radius, ext_coords\n",
    "\n",
    "def osm2polys(osm_data):\n",
    "    if isinstance(osm_data, Way):\n",
    "        ln = way2line(osm_data)\n",
    "        poly = shpgeo.Polygon(ln)\n",
    "        return [poly]\n",
    "    if isinstance(osm_data, Relation):\n",
    "        r = get_relation(osm_data)\n",
    "        return rltn2mergedFlattenListShp(r)\n",
    "\n",
    "def osms2flattenPolys(data_file_dir, geojson_file):\n",
    "    place_polys = []\n",
    "    for i, file_path in enumerate(glob.glob(data_file_dir+'/*')):\n",
    "#         if i<=0:\n",
    "#             continue\n",
    "#         if i >5:\n",
    "#             break\n",
    "        _, place = file_path.split('\\\\')\n",
    "        place = place[:-4].replace(' ','_')\n",
    "        osm_data = parse_file(file_path)\n",
    "        osm_data = list(osm_data)\n",
    "        assert len(osm_data)==1, '{}th {}: len!=0'.format(i, file_path)\n",
    "        print i, place, len(list(osm_data))\n",
    "        osm_data = osm_data[0]\n",
    "        polys = osm2polys(osm_data)\n",
    "        for cnt, poly in enumerate(polys):\n",
    "            cntr, radius, ext_coords = get_cntr_radius(poly)\n",
    "            place_polys.append(['{}##{}'.format(place,cnt), cntr, radius+1000, poly])\n",
    "        \n",
    "    print len(place_polys)\n",
    "    return place_polys\n"
   ]
  },
  {
   "cell_type": "code",
   "execution_count": 17,
   "metadata": {
    "collapsed": true
   },
   "outputs": [],
   "source": [
    "\n",
    "OSM_XML_DIR = u'../data/OSM_national_park@US/'\n",
    "PLACE_POLYS_NP = '../data/place_polys_np.geojson'"
   ]
  },
  {
   "cell_type": "code",
   "execution_count": 153,
   "metadata": {
    "collapsed": true
   },
   "outputs": [
    {
     "name": "stdout",
     "output_type": "stream",
     "text": [
      "0 Acadia_NP_(ACAD) 1\n",
      "1 Adams_NHP 1\n",
      "2 African_Burial_Ground_NM_(AFBG) 1\n",
      "3 Agate_Fossil_Beds_NM 1\n",
      "4 Alibates_Flint_Quarries_NM_(ALFL) 1\n",
      "5 Allegheny_Portage_Railroad_NHS_(ALPO) 1\n",
      "6 Andersonville_NHS_(ANDE) 1\n",
      "7 Aniakchak_NM_&_PRES_(ANIA)1 1\n",
      "8 Aniakchak_NM_&_PRES_(ANIA)2 1\n",
      "9 Antietam_NB_(ANTI) 1\n",
      "10 Appomattox_Court_House_NHP_(APCO) 1\n",
      "11 Arches_NP_(ARCH) 1\n",
      "12 Arkansas_Post_NMEM_(ARPO) 1\n",
      "13 Arlington_House_The_R.E._Lee_MEM_(ARHO) 1\n",
      "14 Assateague_Island_NS_(ASIS) 1\n",
      "15 Aztec_Ruins_NM_(AZRU) 1\n",
      "16 Badlands_NP_(BADL) 1\n",
      "17 Bandelier_NM_(BAND) 1\n",
      "18 Bent's_Old_Fort_NHS_(BEOL) 1\n",
      "19 Bering_Land_Bridge_NPRES_(BELA) 1\n",
      "20 Big_Bend_NP_(BIBE) 1\n",
      "21 Big_Cypress_NPRES_(BICY) 1\n",
      "22 Big_Hole_NB_(BIHO) 1\n",
      "23 Big_South_Fork_NRRA_(BISO) 1\n",
      "24 Bighorn_Canyon_NRA 1\n",
      "25 Biscayne_NP 1\n",
      "26 Black_Canyon_of_the_Gunnison_NP 1\n",
      "27 Blue_Ridge_PKWY 1\n",
      "28 Brown_v._Board_of_Education_NHS_[larger] 1\n",
      "29 Brown_v._Board_of_Education_NHS 1\n",
      "30 Bryce_Canyon_NP 1\n",
      "31 Buck_Island_Reef_NM 1\n",
      "32 Buffalo_NR 1\n",
      "33 Cabrillo_NM 1\n",
      "34 Canyon_de_Chelly_NM 1\n",
      "35 Canyonlands_NP1 1\n",
      "36 Canyonlands_NP2 1\n",
      "37 Canyonlands_NP3 1\n",
      "38 Cape_Cod_NS 1\n",
      "83\n"
     ]
    }
   ],
   "source": [
    "place_polys = osms2flattenPolys(OSM_XML_DIR,PLACE_POLYS_NP)"
   ]
  },
  {
   "cell_type": "code",
   "execution_count": 171,
   "metadata": {
    "collapsed": false
   },
   "outputs": [],
   "source": [
    "gpdf = gp.GeoDataFrame(place_polys,columns=['place##cnt', 'cntr','radius+1km','geometry'])\n",
    "gpdf.cntr = gpdf.cntr.apply(str)"
   ]
  },
  {
   "cell_type": "code",
   "execution_count": 172,
   "metadata": {
    "collapsed": false
   },
   "outputs": [],
   "source": [
    "with open(PLACE_POLYS_NP,'w') as f:\n",
    "    f.write(gpdf.to_json())"
   ]
  },
  {
   "cell_type": "code",
   "execution_count": 160,
   "metadata": {
    "collapsed": false
   },
   "outputs": [
    {
     "data": {
      "text/html": [
       "<div>\n",
       "<table border=\"1\" class=\"dataframe\">\n",
       "  <thead>\n",
       "    <tr style=\"text-align: right;\">\n",
       "      <th></th>\n",
       "      <th>place##cnt</th>\n",
       "      <th>cntr</th>\n",
       "      <th>radius+1km</th>\n",
       "      <th>geometry</th>\n",
       "      <th>id</th>\n",
       "    </tr>\n",
       "  </thead>\n",
       "  <tbody>\n",
       "    <tr>\n",
       "      <th>69</th>\n",
       "      <td>Blue_Ridge_PKWY##0</td>\n",
       "      <td>(-81.6609656393, 36.1282316748)</td>\n",
       "      <td>168168.707947</td>\n",
       "      <td>POLYGON ((-83.38083338844375 35.55018165724734...</td>\n",
       "      <td>1</td>\n",
       "    </tr>\n",
       "    <tr>\n",
       "      <th>70</th>\n",
       "      <td>Blue_Ridge_PKWY##1</td>\n",
       "      <td>(-79.7625342719, 37.3579361787)</td>\n",
       "      <td>42196.275031</td>\n",
       "      <td>POLYGON ((-80.2247187355749 37.13233249453511,...</td>\n",
       "      <td>1</td>\n",
       "    </tr>\n",
       "    <tr>\n",
       "      <th>71</th>\n",
       "      <td>Blue_Ridge_PKWY##2</td>\n",
       "      <td>(-79.1691825763, 37.7864583596)</td>\n",
       "      <td>41560.538870</td>\n",
       "      <td>POLYGON ((-79.60002433837357 37.53270358645526...</td>\n",
       "      <td>1</td>\n",
       "    </tr>\n",
       "  </tbody>\n",
       "</table>\n",
       "</div>"
      ],
      "text/plain": [
       "            place##cnt                             cntr     radius+1km  \\\n",
       "69  Blue_Ridge_PKWY##0  (-81.6609656393, 36.1282316748)  168168.707947   \n",
       "70  Blue_Ridge_PKWY##1  (-79.7625342719, 37.3579361787)   42196.275031   \n",
       "71  Blue_Ridge_PKWY##2  (-79.1691825763, 37.7864583596)   41560.538870   \n",
       "\n",
       "                                             geometry  id  \n",
       "69  POLYGON ((-83.38083338844375 35.55018165724734...   1  \n",
       "70  POLYGON ((-80.2247187355749 37.13233249453511,...   1  \n",
       "71  POLYGON ((-79.60002433837357 37.53270358645526...   1  "
      ]
     },
     "execution_count": 160,
     "metadata": {},
     "output_type": "execute_result"
    }
   ],
   "source": [
    "gpdf[gpdf['place##cnt'].str.contains('Blue_Ridge_PKWY')]"
   ]
  },
  {
   "cell_type": "code",
   "execution_count": 158,
   "metadata": {
    "collapsed": false
   },
   "outputs": [],
   "source": [
    "import geopandas as gp\n",
    "gpdf.geometry = gpdf.buffer(0.1)\n",
    "gpdf['id'] = 1\n",
    "with open('nationalpark_polygons.js','w') as f:\n",
    "    f.write('var np = %s;'%gpdf.to_json())"
   ]
  },
  {
   "cell_type": "code",
   "execution_count": 5,
   "metadata": {
    "collapsed": true
   },
   "outputs": [],
   "source": [
    "with open('nationalpark_boundbox_osm.tsv','w') as f:\n",
    "    for i, poly in enumerate(polys):\n",
    "        name_pattern = national_parks[i]\n",
    "        bbox = poly.bounds\n",
    "        bbox_str = ','.join([str(x)for x in bbox])  \n",
    "        center_str = '%.6f,%.6f' %(poly.centroid.coords[0][0], poly.centroid.coords[0][1])\n",
    "        f.write('%s\\t%s\\t%s\\n' %(name_pattern, center_str, bbox_str))\n",
    "        "
   ]
  },
  {
   "cell_type": "code",
   "execution_count": 179,
   "metadata": {
    "collapsed": false,
    "scrolled": true
   },
   "outputs": [
    {
     "data": {
      "text/plain": [
       "unicode"
      ]
     },
     "execution_count": 179,
     "metadata": {},
     "output_type": "execute_result"
    }
   ],
   "source": []
  },
  {
   "cell_type": "code",
   "execution_count": 178,
   "metadata": {
    "collapsed": false
   },
   "outputs": [
    {
     "data": {
      "text/plain": [
       "tuple"
      ]
     },
     "execution_count": 178,
     "metadata": {},
     "output_type": "execute_result"
    }
   ],
   "source": [
    "type(place_gpdf.cntr.iloc[0])"
   ]
  },
  {
   "cell_type": "code",
   "execution_count": 187,
   "metadata": {
    "collapsed": false
   },
   "outputs": [],
   "source": [
    "place_gpdf = gp.read_file(PLACE_POLYS_NP)\n",
    "radius = place_gpdf['radius+1km'].apply(lambda x: '{}km'.format(int(x/1000)+1)).values\n",
    "cntr = place_gpdf.cntr.apply(eval).apply(lambda x: (x[1],x[0]))\n",
    "place = place_gpdf['place##cnt'].values\n",
    "PLACES = zip(place, cntr, radius)"
   ]
  },
  {
   "cell_type": "code",
   "execution_count": 188,
   "metadata": {
    "collapsed": false
   },
   "outputs": [
    {
     "data": {
      "text/plain": [
       "[(u'Acadia_NP_(ACAD)##0', (44.03591693771104, -68.63594571491548), '5km'),\n",
       " (u'Acadia_NP_(ACAD)##1', (44.071979451544216, -68.61921256814911), '2km'),\n",
       " (u'Acadia_NP_(ACAD)##2', (44.01569898061631, -68.61466787965567), '2km'),\n",
       " (u'Acadia_NP_(ACAD)##3', (44.06216793649834, -68.62017908924948), '2km'),\n",
       " (u'Acadia_NP_(ACAD)##4', (44.04258626567006, -68.5571333434889), '2km'),\n",
       " (u'Acadia_NP_(ACAD)##5', (44.04757410490562, -68.5554604616539), '2km'),\n",
       " (u'Acadia_NP_(ACAD)##6', (44.10061590915099, -68.47392536170815), '2km'),\n",
       " (u'Acadia_NP_(ACAD)##7', (44.289479952235446, -68.40092567665117), '2km'),\n",
       " (u'Acadia_NP_(ACAD)##8', (44.2834198591617, -68.39625072474915), '2km'),\n",
       " (u'Acadia_NP_(ACAD)##9', (44.42417457132982, -68.36145367515483), '2km'),\n",
       " (u'Acadia_NP_(ACAD)##10', (44.3928257854742, -68.35413223291408), '2km'),\n",
       " (u'Acadia_NP_(ACAD)##11', (44.397895299392715, -68.3506312550204), '2km'),\n",
       " (u'Acadia_NP_(ACAD)##12', (44.253005260814014, -68.34863353489996), '2km'),\n",
       " (u'Acadia_NP_(ACAD)##13', (44.3306058226342, -68.33467114903979), '2km'),\n",
       " (u'Acadia_NP_(ACAD)##14', (44.42468265226033, -68.3261140633393), '2km'),\n",
       " (u'Acadia_NP_(ACAD)##15', (44.29196529158707, -68.35596773689156), '10km'),\n",
       " (u'Acadia_NP_(ACAD)##16', (44.4176406330856, -68.31804499863446), '3km'),\n",
       " (u'Acadia_NP_(ACAD)##17', (44.41855668685085, -68.296834487925), '2km'),\n",
       " (u'Acadia_NP_(ACAD)##18', (44.350949739538514, -68.24521174478787), '9km'),\n",
       " (u'Acadia_NP_(ACAD)##19', (44.41941646007273, -68.28505966050679), '2km'),\n",
       " (u'Acadia_NP_(ACAD)##20', (44.28362329847261, -68.26974884740503), '2km'),\n",
       " (u'Acadia_NP_(ACAD)##21', (44.261362144042714, -68.24004409586041), '2km'),\n",
       " (u'Acadia_NP_(ACAD)##22', (44.39848382352024, -68.20699661609878), '2km'),\n",
       " (u'Acadia_NP_(ACAD)##23', (44.24165853684984, -68.1986132719683), '2km'),\n",
       " (u'Acadia_NP_(ACAD)##24', (44.400176411506706, -68.1938687643036), '2km'),\n",
       " (u'Acadia_NP_(ACAD)##25', (44.37272322829609, -68.19376640657497), '2km'),\n",
       " (u'Acadia_NP_(ACAD)##26', (44.38733695864463, -68.18153919847335), '2km'),\n",
       " (u'Acadia_NP_(ACAD)##27', (44.36353717816605, -68.17722343372438), '2km'),\n",
       " (u'Acadia_NP_(ACAD)##28', (44.40646760252331, -68.1630011644225), '2km'),\n",
       " (u'Acadia_NP_(ACAD)##29', (44.41229388805844, -68.15585612307366), '2km'),\n",
       " (u'Acadia_NP_(ACAD)##30', (44.363192303298696, -68.0595394627279), '5km'),\n",
       " (u'Acadia_NP_(ACAD)##31', (44.34670321289314, -68.07506075696921), '2km'),\n",
       " (u'Acadia_NP_(ACAD)##32', (44.34653693373412, -68.07495174600979), '2km'),\n",
       " (u'Acadia_NP_(ACAD)##33', (44.345196889932886, -68.0731079211942), '2km'),\n",
       " (u'Acadia_NP_(ACAD)##34', (44.34242960935822, -68.06994037896358), '2km'),\n",
       " (u'Acadia_NP_(ACAD)##35', (44.341844541202484, -68.06515787616685), '2km'),\n",
       " (u'Acadia_NP_(ACAD)##36', (44.33410374894113, -68.04954143977064), '2km'),\n",
       " (u'Acadia_NP_(ACAD)##37', (44.34991345512978, -68.0406259020794), '2km'),\n",
       " (u'Acadia_NP_(ACAD)##38', (44.331567744658365, -68.03239410351465), '2km'),\n",
       " (u'Adams_NHP##0', (42.25646645640252, -71.01118196457543), '2km'),\n",
       " (u'African_Burial_Ground_NM_(AFBG)##0',\n",
       "  (40.71452676363511, -74.00446334823523),\n",
       "  '2km'),\n",
       " (u'Agate_Fossil_Beds_NM##0', (42.42195778323126, -103.75452671622894), '5km'),\n",
       " (u'Alibates_Flint_Quarries_NM_(ALFL)##0',\n",
       "  (35.58192326540946, -101.67181428374447),\n",
       "  '4km'),\n",
       " (u'Allegheny_Portage_Railroad_NHS_(ALPO)##0',\n",
       "  (40.37030815780894, -78.8480369807145),\n",
       "  '2km'),\n",
       " (u'Andersonville_NHS_(ANDE)##0',\n",
       "  (32.19820323353891, -84.1299711826842),\n",
       "  '3km'),\n",
       " (u'Aniakchak_NM_&_PRES_(ANIA)1##0',\n",
       "  (56.8954437103874, -158.1178296532576),\n",
       "  '19km'),\n",
       " (u'Aniakchak_NM_&_PRES_(ANIA)2##0',\n",
       "  (56.89303501320148, -157.9009350024743),\n",
       "  '31km'),\n",
       " (u'Antietam_NB_(ANTI)##0', (39.46751511662678, -77.73869232566138), '5km'),\n",
       " (u'Appomattox_Court_House_NHP_(APCO)##0',\n",
       "  (37.37838363359361, -78.7977969352428),\n",
       "  '3km'),\n",
       " (u'Arches_NP_(ARCH)##0', (38.72278466207143, -109.58636989268527), '19km'),\n",
       " (u'Arkansas_Post_NMEM_(ARPO)##0',\n",
       "  (34.02137710326378, -91.34586275411652),\n",
       "  '3km'),\n",
       " (u'Arlington_House_The_R.E._Lee_MEM_(ARHO)##0',\n",
       "  (38.881170121176005, -77.07258940563928),\n",
       "  '2km'),\n",
       " (u'Assateague_Island_NS_(ASIS)##0',\n",
       "  (38.06367569552205, -75.24275410620281),\n",
       "  '33km'),\n",
       " (u'Aztec_Ruins_NM_(AZRU)##0',\n",
       "  (36.83682197412701, -107.99992450762345),\n",
       "  '3km'),\n",
       " (u'Badlands_NP_(BADL)##0', (43.70423794640537, -102.49910933011147), '51km'),\n",
       " (u'Badlands_NP_(BADL)##1', (43.521366597864116, -102.34709998186398), '10km'),\n",
       " (u'Bandelier_NM_(BAND)##0', (35.7768858275275, -106.33475064450978), '15km'),\n",
       " (u'Bandelier_NM_(BAND)##1', (35.86153093225619, -106.20983322594138), '3km'),\n",
       " (u\"Bent's_Old_Fort_NHS_(BEOL)##0\",\n",
       "  (38.03971348998163, -103.42662116831526),\n",
       "  '3km'),\n",
       " (u'Bering_Land_Bridge_NPRES_(BELA)##0',\n",
       "  (65.95458549197815, -164.40373530978803),\n",
       "  '145km'),\n",
       " (u'Big_Bend_NP_(BIBE)##0', (29.29181709350466, -103.22965673900961), '56km'),\n",
       " (u'Big_Cypress_NPRES_(BICY)##0',\n",
       "  (25.97024338948424, -81.08132634216997),\n",
       "  '47km'),\n",
       " (u'Big_Hole_NB_(BIHO)##0', (45.64647294180111, -113.64584421512986), '3km'),\n",
       " (u'Big_South_Fork_NRRA_(BISO)##0',\n",
       "  (36.5327669596277, -84.66519057791041),\n",
       "  '33km'),\n",
       " (u'Bighorn_Canyon_NRA##0', (45.03332513676874, -108.20577735631353), '40km'),\n",
       " (u'Bighorn_Canyon_NRA##1', (45.339613321474644, -107.87803734068693), '3km'),\n",
       " (u'Biscayne_NP##0', (25.49721098204351, -80.22369773742246), '22km'),\n",
       " (u'Black_Canyon_of_the_Gunnison_NP##0',\n",
       "  (38.578822890743375, -107.72555396429055),\n",
       "  '13km'),\n",
       " (u'Black_Canyon_of_the_Gunnison_NP##1',\n",
       "  (38.51057794225037, -107.64075847612844),\n",
       "  '3km'),\n",
       " (u'Blue_Ridge_PKWY##0', (36.128231674785546, -81.66096563928171), '169km'),\n",
       " (u'Blue_Ridge_PKWY##1', (37.35793617868595, -79.76253427187021), '43km'),\n",
       " (u'Blue_Ridge_PKWY##2', (37.78645835963287, -79.16918257630627), '42km'),\n",
       " (u'Brown_v._Board_of_Education_NHS_[larger]##0',\n",
       "  (39.03793278618524, -95.67646804207683),\n",
       "  '2km'),\n",
       " (u'Brown_v._Board_of_Education_NHS##0',\n",
       "  (39.03791995103248, -95.67648281022228),\n",
       "  '2km'),\n",
       " (u'Bryce_Canyon_NP##0', (37.58392936803705, -112.1827043247241), '19km'),\n",
       " (u'Buck_Island_Reef_NM##0', (17.787149720602944, -64.62090142892808), '2km'),\n",
       " (u'Buffalo_NR##0', (36.04137870196175, -92.90629648594944), '51km'),\n",
       " (u'Cabrillo_NM##0', (32.67225021376291, -117.24159855360847), '2km'),\n",
       " (u'Canyon_de_Chelly_NM##0', (36.14404580948492, -109.33605794510144), '20km'),\n",
       " (u'Canyonlands_NP1##0', (38.37451160078172, -109.8759594431625), '22km'),\n",
       " (u'Canyonlands_NP2##0', (38.116563253015144, -109.80940334074657), '36km'),\n",
       " (u'Canyonlands_NP3##0', (38.22196549356292, -109.9941855951624), '31km'),\n",
       " (u'Cape_Cod_NS##0', (41.9354917230445, -70.04582256376591), '35km')]"
      ]
     },
     "execution_count": 188,
     "metadata": {},
     "output_type": "execute_result"
    }
   ],
   "source": [
    "PLACES\n"
   ]
  }
 ],
 "metadata": {
  "kernelspec": {
   "display_name": "Python 2",
   "language": "python",
   "name": "python2"
  },
  "language_info": {
   "codemirror_mode": {
    "name": "ipython",
    "version": 2
   },
   "file_extension": ".py",
   "mimetype": "text/x-python",
   "name": "python",
   "nbconvert_exporter": "python",
   "pygments_lexer": "ipython2",
   "version": "2.7.11"
  }
 },
 "nbformat": 4,
 "nbformat_minor": 0
}
