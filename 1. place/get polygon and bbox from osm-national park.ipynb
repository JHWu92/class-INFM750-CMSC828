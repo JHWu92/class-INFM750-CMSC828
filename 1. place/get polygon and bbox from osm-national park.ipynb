{
 "cells": [
  {
   "cell_type": "code",
   "execution_count": 9,
   "metadata": {
    "collapsed": true
   },
   "outputs": [],
   "source": [
    "import glob\n",
    "from osmread import parse_file, Way,Node,Relation\n",
    "import shapely.geometry as shpgeo\n",
    "import overpy\n",
    "from shapely.ops import linemerge\n",
    "import time\n",
    "import geopandas as gp"
   ]
  },
  {
   "cell_type": "code",
   "execution_count": 2,
   "metadata": {
    "collapsed": false
   },
   "outputs": [
    {
     "data": {
      "text/plain": [
       "<property at 0x4429d68>"
      ]
     },
     "execution_count": 2,
     "metadata": {},
     "output_type": "execute_result"
    }
   ],
   "source": [
    "api = overpy.Overpass()\n",
    "shpgeo.Polygon.centroid"
   ]
  },
  {
   "cell_type": "code",
   "execution_count": 3,
   "metadata": {
    "collapsed": false
   },
   "outputs": [],
   "source": [
    "def lonlat_in_way(way):\n",
    "    coors = []\n",
    "    for node in way.nodes:\n",
    "        coors.append((node.lon, node.lat))\n",
    "    return coors\n",
    "def is_closed_way(way):\n",
    "    return way.nodes[0] == way.nodes[-1]\n",
    "\n",
    "def get_relation(relation,need_api=True):\n",
    "    while True:\n",
    "        try:\n",
    "            if need_api:\n",
    "                relation = api.query(\"\"\"\n",
    "                relation(%s);\n",
    "                (._;>;);\n",
    "                out;\n",
    "                \"\"\" % relation.id).relations[0]\n",
    "            break\n",
    "        except Exception as e:\n",
    "            print e\n",
    "            time.sleep(10)\n",
    "    return relation\n",
    "\n",
    "def way2line(way,need_api=True):\n",
    "    while True:\n",
    "        try:\n",
    "            if need_api:\n",
    "                way = api.query(\"\"\"\n",
    "                way(%s);\n",
    "                (._;>;);\n",
    "                out;\n",
    "                \"\"\"% way.id).ways[0]\n",
    "            break\n",
    "        except Exception as e:\n",
    "            print e\n",
    "            time.sleep(10)\n",
    "    coors = lonlat_in_way(way)\n",
    "    return shpgeo.LineString(coors)\n",
    "\n",
    "def haversine(lon1, lat1, lon2, lat2):\n",
    "    \"\"\"\n",
    "    Calculate the great circle distance between two points \n",
    "    on the earth (specified in decimal degrees)\n",
    "    \"\"\"\n",
    "    from math import radians, cos, sin, asin, sqrt\n",
    "    # convert decimal degrees to radians \n",
    "    lon1, lat1, lon2, lat2 = map(radians, [lon1, lat1, lon2, lat2])\n",
    "    # haversine formula \n",
    "    dlon = lon2 - lon1 \n",
    "    dlat = lat2 - lat1 \n",
    "    a = sin(dlat/2)**2 + cos(lat1) * cos(lat2) * sin(dlon/2)**2\n",
    "    c = 2 * asin(sqrt(a)) \n",
    "    km = 6367 * c\n",
    "    m = km *1000\n",
    "    return m\n",
    "       \n",
    "def handle_poly(name_pattern,poly):\n",
    "    ext_coords = poly.exterior.coords\n",
    "    centr = poly.centroid\n",
    "    radius = get_max_dis_from_center_to_ext(centr, ext_coords)\n",
    "    center_str = '%.6f,%.6f' %(centr.coords[0][0], centr.coords[0][1])\n",
    "    return '%s\\t%s\\t%s\\t%s\\n' %(name_pattern, center_str, radius, list(poly.exterior.coords))\n",
    "    "
   ]
  },
  {
   "cell_type": "code",
   "execution_count": 4,
   "metadata": {
    "collapsed": true
   },
   "outputs": [],
   "source": [
    "def remove_equal_shpobj(objs):\n",
    "    import rtree\n",
    "    size = len(objs)\n",
    "    equal_pair = []\n",
    "    keep = []\n",
    "    exclude_idx = set()\n",
    "\n",
    "    tree_idx = rtree.index.Index()\n",
    "    objs_bounds = [o.bounds for o in objs]\n",
    "    for i in xrange(size):\n",
    "        try:\n",
    "            tree_idx.insert(i, objs_bounds[i])\n",
    "        except Exception as e:\n",
    "            print i, objs_bounds[i], objs[i]\n",
    "            raise e\n",
    "\n",
    "    for i in xrange(size):\n",
    "        if i in exclude_idx:\n",
    "            continue\n",
    "        keep.append(i)\n",
    "        js = tree_idx.intersection(objs[i].bounds)\n",
    "        for j in js:\n",
    "            if i!=j and objs[i].equals(objs[j]):\n",
    "                equal_pair.append((i,int(j)))\n",
    "                exclude_idx.add(j)\n",
    "\n",
    "    return keep, equal_pair\n",
    "def remove_equal_shpobj(objs):\n",
    "    import rtree\n",
    "    size = len(objs)\n",
    "    equal_pair = []\n",
    "    keep = []\n",
    "    exclude_idx = set()\n",
    "\n",
    "    tree_idx = rtree.index.Index()\n",
    "    objs_bounds = [o.bounds for o in objs]\n",
    "    for i in xrange(size):\n",
    "        try:\n",
    "            tree_idx.insert(i, objs_bounds[i])\n",
    "        except Exception as e:\n",
    "            print i, objs_bounds[i], objs[i]\n",
    "            raise e\n",
    "\n",
    "    for i in xrange(size):\n",
    "        if i in exclude_idx:\n",
    "            continue\n",
    "        keep.append(i)\n",
    "        js = tree_idx.intersection(objs[i].bounds)\n",
    "        for j in js:\n",
    "            if i!=j and objs[i].equals(objs[j]):\n",
    "                equal_pair.append((i,int(j)))\n",
    "                exclude_idx.add(j)\n",
    "\n",
    "    return keep, equal_pair\n",
    "def rltn2dictShp(relation, sub_rltn=False):\n",
    "    nodes, ways, sub_nodes, sub_ways = [], [], [], []\n",
    "    for m in relation.members:\n",
    "        obj = m.resolve()\n",
    "        if isinstance(obj, overpy.Node):\n",
    "            nodes.append(obj)\n",
    "        elif isinstance(obj, overpy.Way):\n",
    "            ways.append(obj)\n",
    "        elif isinstance(obj, overpy.Relation):\n",
    "            r_nodes, r_ways = rltn2dictShp(osm_container, obj, True)\n",
    "            sub_nodes.extend(r_nodes)\n",
    "            sub_ways.extend(r_ways)\n",
    "    if sub_rltn:\n",
    "        return nodes, ways\n",
    "    nodes.extend([node for node in sub_nodes])\n",
    "    ways.extend([way for way in sub_ways])\n",
    "\n",
    "    points = [node2pt(node) for node in nodes]\n",
    "    keep_pts_idx, _ = remove_equal_shpobj(points)\n",
    "    points = [p for cnt, p in enumerate(points) if cnt in keep_pts_idx]\n",
    "\n",
    "    lines = [way2line(way,False) for way in ways]\n",
    "    keep_lines_idx, _ = remove_equal_shpobj(lines)\n",
    "    lines = [l for cnt, l in enumerate(lines) if cnt in keep_lines_idx]\n",
    "\n",
    "    dict_shp= {'Point': points, 'LineString': [], 'Polygon': []}\n",
    "    if lines:\n",
    "        merged = linemerge(lines)\n",
    "        if merged.type == 'LineString':\n",
    "            merged = [merged]\n",
    "        else:\n",
    "            merged = list(merged)\n",
    "        for ln in merged:\n",
    "            if ln.is_ring:\n",
    "                dict_shp['Polygon'].append(shpgeo.Polygon(ln))\n",
    "            else:\n",
    "                dict_shp['LineString'].append(ln)\n",
    "    return dict_shp\n",
    "def merge_within_by_list_shp(list_shp):\n",
    "    import geopandas as gp\n",
    "    import pandas as pd\n",
    "    from other_utils import find_tree\n",
    "    gpdf = gp.GeoDataFrame(list_shp,columns=['geometry'])\n",
    "    sjoin = gp.tools.sjoin(gpdf,gpdf,op='within')\n",
    "    messy_tree_df = pd.DataFrame(zip(sjoin.index.values, sjoin.index_right.values), columns=['node','parent'])\n",
    "    clean_tree_df = find_tree(messy_tree_df)\n",
    "    top_level_shp_idx = clean_tree_df[clean_tree_df.parent==-1].node.values\n",
    "    return gpdf[gpdf.index.isin(top_level_shp_idx)].values\n",
    "\n",
    "def rltn2mergedListShp( relation):\n",
    "    shpcltn = rltn2dictShp(relation)\n",
    "    list_shp = []\n",
    "    for l in shpcltn.values():\n",
    "        list_shp += l\n",
    "    merge_list_shp = merge_within_by_list_shp(list_shp)\n",
    "    return merge_list_shp\n",
    "\n",
    "\n",
    "def rltn2mergedFlattenListShp(relation):\n",
    "    merge_list_shp = rltn2mergedListShp(relation)\n",
    "    flat_shpcltn = []\n",
    "    for shpobjs in merge_list_shp:\n",
    "        flat_shpcltn.extend(shpobjs)\n",
    "    return flat_shpcltn\n",
    "\n",
    "def rltn2convexhull(relation):\n",
    "    return shpgeo.MultiPolygon(rltn2mergedFlattenListShp(relation)).convex_hull"
   ]
  },
  {
   "cell_type": "code",
   "execution_count": 5,
   "metadata": {
    "collapsed": false
   },
   "outputs": [],
   "source": [
    "import sys, os\n",
    "sys.path.insert(0, os.path.abspath('..'))\n",
    "sys.path.insert(0, os.path.abspath('../utils'))\n"
   ]
  },
  {
   "cell_type": "code",
   "execution_count": 6,
   "metadata": {
    "collapsed": false,
    "scrolled": true
   },
   "outputs": [],
   "source": [
    "\n",
    "def get_max_dis_from_center_to_ext(centr,ext_coords):\n",
    "    lon1, lat1 = centr\n",
    "    return max([haversine(lon1,lat1, lon2,lat2) for lon2, lat2 in ext_coords])\n",
    "\n",
    "def get_cntr_radius(poly):\n",
    "    cntr = poly.centroid.coords[0]\n",
    "    ext_coords = poly.exterior.coords\n",
    "    radius = get_max_dis_from_center_to_ext(cntr, ext_coords)\n",
    "    return cntr, radius, ext_coords\n",
    "\n",
    "def osm2polys(osm_data):\n",
    "    if isinstance(osm_data, Way):\n",
    "        ln = way2line(osm_data)\n",
    "        poly = shpgeo.Polygon(ln)\n",
    "        return [poly]\n",
    "    if isinstance(osm_data, Relation):\n",
    "        r = get_relation(osm_data)\n",
    "        return rltn2mergedFlattenListShp(r)\n",
    "\n",
    "def osms2flattenPolys(data_file_dir, geojson_file):\n",
    "    place_polys = []\n",
    "    for i, file_path in enumerate(glob.glob(data_file_dir+'/*')):\n",
    "#         if i<=0:\n",
    "#             continue\n",
    "#         if i >5:\n",
    "#             break\n",
    "        _, place = file_path.split('\\\\')\n",
    "        place = place[:-4].replace(' ','_')\n",
    "        osm_data = parse_file(file_path)\n",
    "        osm_data = list(osm_data)\n",
    "        assert len(osm_data)==1, '{}th {}: len!=0'.format(i, file_path)\n",
    "        print i, place, len(list(osm_data))\n",
    "        osm_data = osm_data[0]\n",
    "        polys = osm2polys(osm_data)\n",
    "        for cnt, poly in enumerate(polys):\n",
    "            cntr, radius, ext_coords = get_cntr_radius(poly)\n",
    "            place_polys.append(['{}##{}'.format(place,cnt), cntr, radius+1000, poly])\n",
    "        \n",
    "    print len(place_polys)\n",
    "    return place_polys\n"
   ]
  },
  {
   "cell_type": "code",
   "execution_count": 7,
   "metadata": {
    "collapsed": true
   },
   "outputs": [],
   "source": [
    "\n",
    "OSM_XML_DIR = u'../data/OSM_national_park@US/'\n",
    "PLACE_POLYS_NP = '../data/place_polys_np.geojson'"
   ]
  },
  {
   "cell_type": "code",
   "execution_count": 11,
   "metadata": {
    "collapsed": false
   },
   "outputs": [],
   "source": [
    "# place_polys = osms2flattenPolys(OSM_XML_DIR,PLACE_POLYS_NP)\n",
    "# gpdf = gp.GeoDataFrame(place_polys,columns=['place##cnt', 'cntr','radius+1km','geometry'])\n",
    "gpdf = gp.read_file(PLACE_POLYS_NP)"
   ]
  },
  {
   "cell_type": "code",
   "execution_count": 12,
   "metadata": {
    "collapsed": true
   },
   "outputs": [
    {
     "data": {
      "text/html": [
       "<div>\n",
       "<table border=\"1\" class=\"dataframe\">\n",
       "  <thead>\n",
       "    <tr style=\"text-align: right;\">\n",
       "      <th></th>\n",
       "      <th>cntr</th>\n",
       "      <th>geometry</th>\n",
       "      <th>id</th>\n",
       "      <th>place##cnt</th>\n",
       "      <th>radius+1km</th>\n",
       "    </tr>\n",
       "  </thead>\n",
       "  <tbody>\n",
       "    <tr>\n",
       "      <th>52</th>\n",
       "      <td>(-75.24275410620281, 38.06367569552205)</td>\n",
       "      <td>POLYGON ((-75.38908549999999 37.8967133, -75.3...</td>\n",
       "      <td>52</td>\n",
       "      <td>Assateague_Island_NS_(ASIS)##0</td>\n",
       "      <td>32993.988803</td>\n",
       "    </tr>\n",
       "    <tr>\n",
       "      <th>54</th>\n",
       "      <td>(-102.49910933011147, 43.70423794640537)</td>\n",
       "      <td>POLYGON ((-102.793833 43.6877596, -102.7938206...</td>\n",
       "      <td>54</td>\n",
       "      <td>Badlands_NP_(BADL)##0</td>\n",
       "      <td>50848.913056</td>\n",
       "    </tr>\n",
       "    <tr>\n",
       "      <th>59</th>\n",
       "      <td>(-164.40373530978803, 65.95458549197815)</td>\n",
       "      <td>POLYGON ((-167.5049829 65.829255, -167.511852 ...</td>\n",
       "      <td>59</td>\n",
       "      <td>Bering_Land_Bridge_NPRES_(BELA)##0</td>\n",
       "      <td>144080.778600</td>\n",
       "    </tr>\n",
       "    <tr>\n",
       "      <th>60</th>\n",
       "      <td>(-103.22965673900961, 29.29181709350466)</td>\n",
       "      <td>POLYGON ((-103.7811917 29.2427238, -103.7812 2...</td>\n",
       "      <td>60</td>\n",
       "      <td>Big_Bend_NP_(BIBE)##0</td>\n",
       "      <td>55047.881177</td>\n",
       "    </tr>\n",
       "    <tr>\n",
       "      <th>61</th>\n",
       "      <td>(-81.08132634216997, 25.97024338948424)</td>\n",
       "      <td>POLYGON ((-81.3832 25.842689, -81.370538800000...</td>\n",
       "      <td>61</td>\n",
       "      <td>Big_Cypress_NPRES_(BICY)##0</td>\n",
       "      <td>46326.310996</td>\n",
       "    </tr>\n",
       "    <tr>\n",
       "      <th>63</th>\n",
       "      <td>(-84.66519057791041, 36.5327669596277)</td>\n",
       "      <td>POLYGON ((-84.78574980000001 36.6015051, -84.7...</td>\n",
       "      <td>63</td>\n",
       "      <td>Big_South_Fork_NRRA_(BISO)##0</td>\n",
       "      <td>32542.588715</td>\n",
       "    </tr>\n",
       "    <tr>\n",
       "      <th>64</th>\n",
       "      <td>(-108.20577735631353, 45.03332513676874)</td>\n",
       "      <td>POLYGON ((-108.296018 45.132289, -108.290915 4...</td>\n",
       "      <td>64</td>\n",
       "      <td>Bighorn_Canyon_NRA##0</td>\n",
       "      <td>39916.802808</td>\n",
       "    </tr>\n",
       "    <tr>\n",
       "      <th>69</th>\n",
       "      <td>(-81.66096563928171, 36.128231674785546)</td>\n",
       "      <td>POLYGON ((-83.2862768 35.5178981, -83.2851898 ...</td>\n",
       "      <td>69</td>\n",
       "      <td>Blue_Ridge_PKWY##0</td>\n",
       "      <td>168168.707947</td>\n",
       "    </tr>\n",
       "    <tr>\n",
       "      <th>70</th>\n",
       "      <td>(-79.76253427187021, 37.35793617868595)</td>\n",
       "      <td>POLYGON ((-79.8720154 37.249429, -79.8733582 3...</td>\n",
       "      <td>70</td>\n",
       "      <td>Blue_Ridge_PKWY##1</td>\n",
       "      <td>42196.275031</td>\n",
       "    </tr>\n",
       "    <tr>\n",
       "      <th>71</th>\n",
       "      <td>(-79.16918257630627, 37.78645835963287)</td>\n",
       "      <td>POLYGON ((-79.5000254 37.5322428, -79.4996397 ...</td>\n",
       "      <td>71</td>\n",
       "      <td>Blue_Ridge_PKWY##2</td>\n",
       "      <td>41560.538870</td>\n",
       "    </tr>\n",
       "    <tr>\n",
       "      <th>76</th>\n",
       "      <td>(-92.90629648594944, 36.04137870196175)</td>\n",
       "      <td>POLYGON ((-92.9585787 35.978324, -92.958575800...</td>\n",
       "      <td>76</td>\n",
       "      <td>Buffalo_NR##0</td>\n",
       "      <td>50824.549107</td>\n",
       "    </tr>\n",
       "    <tr>\n",
       "      <th>80</th>\n",
       "      <td>(-109.80940334074657, 38.116563253015144)</td>\n",
       "      <td>POLYGON ((-110.0434898 38.0757575, -110.04326 ...</td>\n",
       "      <td>80</td>\n",
       "      <td>Canyonlands_NP2##0</td>\n",
       "      <td>35167.193709</td>\n",
       "    </tr>\n",
       "    <tr>\n",
       "      <th>82</th>\n",
       "      <td>(-70.04582256376591, 41.9354917230445)</td>\n",
       "      <td>POLYGON ((-70.06068019999999 42.0095846, -70.0...</td>\n",
       "      <td>82</td>\n",
       "      <td>Cape_Cod_NS##0</td>\n",
       "      <td>34961.225836</td>\n",
       "    </tr>\n",
       "  </tbody>\n",
       "</table>\n",
       "</div>"
      ],
      "text/plain": [
       "                                         cntr  \\\n",
       "52    (-75.24275410620281, 38.06367569552205)   \n",
       "54   (-102.49910933011147, 43.70423794640537)   \n",
       "59   (-164.40373530978803, 65.95458549197815)   \n",
       "60   (-103.22965673900961, 29.29181709350466)   \n",
       "61    (-81.08132634216997, 25.97024338948424)   \n",
       "63     (-84.66519057791041, 36.5327669596277)   \n",
       "64   (-108.20577735631353, 45.03332513676874)   \n",
       "69   (-81.66096563928171, 36.128231674785546)   \n",
       "70    (-79.76253427187021, 37.35793617868595)   \n",
       "71    (-79.16918257630627, 37.78645835963287)   \n",
       "76    (-92.90629648594944, 36.04137870196175)   \n",
       "80  (-109.80940334074657, 38.116563253015144)   \n",
       "82     (-70.04582256376591, 41.9354917230445)   \n",
       "\n",
       "                                             geometry  id  \\\n",
       "52  POLYGON ((-75.38908549999999 37.8967133, -75.3...  52   \n",
       "54  POLYGON ((-102.793833 43.6877596, -102.7938206...  54   \n",
       "59  POLYGON ((-167.5049829 65.829255, -167.511852 ...  59   \n",
       "60  POLYGON ((-103.7811917 29.2427238, -103.7812 2...  60   \n",
       "61  POLYGON ((-81.3832 25.842689, -81.370538800000...  61   \n",
       "63  POLYGON ((-84.78574980000001 36.6015051, -84.7...  63   \n",
       "64  POLYGON ((-108.296018 45.132289, -108.290915 4...  64   \n",
       "69  POLYGON ((-83.2862768 35.5178981, -83.2851898 ...  69   \n",
       "70  POLYGON ((-79.8720154 37.249429, -79.8733582 3...  70   \n",
       "71  POLYGON ((-79.5000254 37.5322428, -79.4996397 ...  71   \n",
       "76  POLYGON ((-92.9585787 35.978324, -92.958575800...  76   \n",
       "80  POLYGON ((-110.0434898 38.0757575, -110.04326 ...  80   \n",
       "82  POLYGON ((-70.06068019999999 42.0095846, -70.0...  82   \n",
       "\n",
       "                            place##cnt     radius+1km  \n",
       "52      Assateague_Island_NS_(ASIS)##0   32993.988803  \n",
       "54               Badlands_NP_(BADL)##0   50848.913056  \n",
       "59  Bering_Land_Bridge_NPRES_(BELA)##0  144080.778600  \n",
       "60               Big_Bend_NP_(BIBE)##0   55047.881177  \n",
       "61         Big_Cypress_NPRES_(BICY)##0   46326.310996  \n",
       "63       Big_South_Fork_NRRA_(BISO)##0   32542.588715  \n",
       "64               Bighorn_Canyon_NRA##0   39916.802808  \n",
       "69                  Blue_Ridge_PKWY##0  168168.707947  \n",
       "70                  Blue_Ridge_PKWY##1   42196.275031  \n",
       "71                  Blue_Ridge_PKWY##2   41560.538870  \n",
       "76                       Buffalo_NR##0   50824.549107  \n",
       "80                  Canyonlands_NP2##0   35167.193709  \n",
       "82                      Cape_Cod_NS##0   34961.225836  "
      ]
     },
     "execution_count": 12,
     "metadata": {},
     "output_type": "execute_result"
    }
   ],
   "source": [
    "gpdf[gpdf['radius+1km']>32000]"
   ]
  },
  {
   "cell_type": "code",
   "execution_count": 27,
   "metadata": {
    "collapsed": false
   },
   "outputs": [
    {
     "data": {
      "text/plain": [
       "52"
      ]
     },
     "execution_count": 27,
     "metadata": {},
     "output_type": "execute_result"
    }
   ],
   "source": [
    "ddir = '../data/social_media_raw/flickr/np/'\n",
    "crawled_places = set([f.rsplit('_',2)[0].split('\\\\')[1] for f in glob.glob(ddir+'*.*')])\n",
    "len(crawled_places)\n",
    "# print crawled_places"
   ]
  },
  {
   "cell_type": "code",
   "execution_count": 172,
   "metadata": {
    "collapsed": false
   },
   "outputs": [],
   "source": [
    "\n",
    "gpdf.cntr = gpdf.cntr.apply(str)\n",
    "with open(PLACE_POLYS_NP,'w') as f:\n",
    "    f.write(gpdf.to_json())"
   ]
  },
  {
   "cell_type": "code",
   "execution_count": 160,
   "metadata": {
    "collapsed": false
   },
   "outputs": [
    {
     "data": {
      "text/html": [
       "<div>\n",
       "<table border=\"1\" class=\"dataframe\">\n",
       "  <thead>\n",
       "    <tr style=\"text-align: right;\">\n",
       "      <th></th>\n",
       "      <th>place##cnt</th>\n",
       "      <th>cntr</th>\n",
       "      <th>radius+1km</th>\n",
       "      <th>geometry</th>\n",
       "      <th>id</th>\n",
       "    </tr>\n",
       "  </thead>\n",
       "  <tbody>\n",
       "    <tr>\n",
       "      <th>69</th>\n",
       "      <td>Blue_Ridge_PKWY##0</td>\n",
       "      <td>(-81.6609656393, 36.1282316748)</td>\n",
       "      <td>168168.707947</td>\n",
       "      <td>POLYGON ((-83.38083338844375 35.55018165724734...</td>\n",
       "      <td>1</td>\n",
       "    </tr>\n",
       "    <tr>\n",
       "      <th>70</th>\n",
       "      <td>Blue_Ridge_PKWY##1</td>\n",
       "      <td>(-79.7625342719, 37.3579361787)</td>\n",
       "      <td>42196.275031</td>\n",
       "      <td>POLYGON ((-80.2247187355749 37.13233249453511,...</td>\n",
       "      <td>1</td>\n",
       "    </tr>\n",
       "    <tr>\n",
       "      <th>71</th>\n",
       "      <td>Blue_Ridge_PKWY##2</td>\n",
       "      <td>(-79.1691825763, 37.7864583596)</td>\n",
       "      <td>41560.538870</td>\n",
       "      <td>POLYGON ((-79.60002433837357 37.53270358645526...</td>\n",
       "      <td>1</td>\n",
       "    </tr>\n",
       "  </tbody>\n",
       "</table>\n",
       "</div>"
      ],
      "text/plain": [
       "            place##cnt                             cntr     radius+1km  \\\n",
       "69  Blue_Ridge_PKWY##0  (-81.6609656393, 36.1282316748)  168168.707947   \n",
       "70  Blue_Ridge_PKWY##1  (-79.7625342719, 37.3579361787)   42196.275031   \n",
       "71  Blue_Ridge_PKWY##2  (-79.1691825763, 37.7864583596)   41560.538870   \n",
       "\n",
       "                                             geometry  id  \n",
       "69  POLYGON ((-83.38083338844375 35.55018165724734...   1  \n",
       "70  POLYGON ((-80.2247187355749 37.13233249453511,...   1  \n",
       "71  POLYGON ((-79.60002433837357 37.53270358645526...   1  "
      ]
     },
     "execution_count": 160,
     "metadata": {},
     "output_type": "execute_result"
    }
   ],
   "source": [
    "gpdf[gpdf['place##cnt'].str.contains('Blue_Ridge_PKWY')]"
   ]
  },
  {
   "cell_type": "code",
   "execution_count": 158,
   "metadata": {
    "collapsed": false
   },
   "outputs": [],
   "source": [
    "import geopandas as gp\n",
    "gpdf.geometry = gpdf.buffer(0.1)\n",
    "gpdf['id'] = 1\n",
    "with open('nationalpark_polygons.js','w') as f:\n",
    "    f.write('var np = %s;'%gpdf.to_json())"
   ]
  },
  {
   "cell_type": "code",
   "execution_count": 5,
   "metadata": {
    "collapsed": true
   },
   "outputs": [],
   "source": [
    "with open('nationalpark_boundbox_osm.tsv','w') as f:\n",
    "    for i, poly in enumerate(polys):\n",
    "        name_pattern = national_parks[i]\n",
    "        bbox = poly.bounds\n",
    "        bbox_str = ','.join([str(x)for x in bbox])  \n",
    "        center_str = '%.6f,%.6f' %(poly.centroid.coords[0][0], poly.centroid.coords[0][1])\n",
    "        f.write('%s\\t%s\\t%s\\n' %(name_pattern, center_str, bbox_str))\n",
    "        "
   ]
  },
  {
   "cell_type": "code",
   "execution_count": 179,
   "metadata": {
    "collapsed": false,
    "scrolled": true
   },
   "outputs": [
    {
     "data": {
      "text/plain": [
       "unicode"
      ]
     },
     "execution_count": 179,
     "metadata": {},
     "output_type": "execute_result"
    }
   ],
   "source": []
  },
  {
   "cell_type": "code",
   "execution_count": 178,
   "metadata": {
    "collapsed": false
   },
   "outputs": [
    {
     "data": {
      "text/plain": [
       "tuple"
      ]
     },
     "execution_count": 178,
     "metadata": {},
     "output_type": "execute_result"
    }
   ],
   "source": [
    "type(place_gpdf.cntr.iloc[0])"
   ]
  },
  {
   "cell_type": "code",
   "execution_count": 21,
   "metadata": {
    "collapsed": false
   },
   "outputs": [],
   "source": [
    "place_gpdf = gp.read_file(PLACE_POLYS_NP)\n",
    "radius = place_gpdf['radius+1km'].apply(lambda x: '{}km'.format(int(x/1000)+1)).values\n",
    "cntr = place_gpdf.cntr.apply(eval).apply(lambda x: (x[1],x[0]))\n",
    "place = place_gpdf['place##cnt'].values\n",
    "PLACES = zip(place, cntr, radius)"
   ]
  },
  {
   "cell_type": "code",
   "execution_count": 28,
   "metadata": {
    "collapsed": false
   },
   "outputs": [
    {
     "data": {
      "text/plain": [
       "True"
      ]
     },
     "execution_count": 28,
     "metadata": {},
     "output_type": "execute_result"
    }
   ],
   "source": [
    "PLACES\n",
    "PLACES[0][0] in crawled_places"
   ]
  },
  {
   "cell_type": "code",
   "execution_count": 31,
   "metadata": {
    "collapsed": false
   },
   "outputs": [
    {
     "data": {
      "text/plain": [
       "[datetime.datetime(2099, 1, 1, 0, 0),\n",
       " datetime.datetime(2099, 1, 1, 0, 0),\n",
       " datetime.datetime(2099, 1, 1, 0, 0),\n",
       " datetime.datetime(2099, 1, 1, 0, 0),\n",
       " datetime.datetime(2099, 1, 1, 0, 0),\n",
       " datetime.datetime(2099, 1, 1, 0, 0),\n",
       " datetime.datetime(2099, 1, 1, 0, 0),\n",
       " datetime.datetime(2099, 1, 1, 0, 0),\n",
       " datetime.datetime(2099, 1, 1, 0, 0),\n",
       " datetime.datetime(2099, 1, 1, 0, 0)]"
      ]
     },
     "execution_count": 31,
     "metadata": {},
     "output_type": "execute_result"
    }
   ],
   "source": [
    "import datetime\n",
    "[datetime.datetime(2099,1,1)]*10"
   ]
  }
 ],
 "metadata": {
  "kernelspec": {
   "display_name": "Python 2",
   "language": "python",
   "name": "python2"
  },
  "language_info": {
   "codemirror_mode": {
    "name": "ipython",
    "version": 2
   },
   "file_extension": ".py",
   "mimetype": "text/x-python",
   "name": "python",
   "nbconvert_exporter": "python",
   "pygments_lexer": "ipython2",
   "version": "2.7.11"
  }
 },
 "nbformat": 4,
 "nbformat_minor": 0
}
