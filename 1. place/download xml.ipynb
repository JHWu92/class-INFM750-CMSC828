{
 "cells": [
  {
   "cell_type": "code",
   "execution_count": 16,
   "metadata": {
    "collapsed": false
   },
   "outputs": [],
   "source": [
    "import urllib2\n",
    "import os\n",
    "def dxml(file_path, url):\n",
    "    if not os.path.isfile(file_path):\n",
    "        with open(file_path,'w') as f:\n",
    "            file = urllib2.urlopen(url)\n",
    "            data = file.read()\n",
    "            file.close()\n",
    "            f.write(data)\n",
    "    else:\n",
    "        print file_path, 'exist!'"
   ]
  },
  {
   "cell_type": "code",
   "execution_count": 17,
   "metadata": {
    "collapsed": false
   },
   "outputs": [],
   "source": [
    "np_osmurl = [\n",
    "    ('Chaco Culture NHP','http://www.openstreetmap.org/api/0.6/relation/1463209'),\n",
    "    ('Chamizal NMEM','http://www.openstreetmap.org/api/0.6/way/249041571'),\n",
    "    ('Channel Islands NP','http://www.openstreetmap.org/api/0.6/relation/3636334'),\n",
    "    ('Chesapeake & Ohio Canal NHP','http://www.openstreetmap.org/api/0.6/relation/6077602'),\n",
    "    ('Chiricahua NM','http://www.openstreetmap.org/api/0.6/relation/5825440'),\n",
    "    ('City of Rocks NRES','http://www.openstreetmap.org/api/0.6/relation/6018625'),\n",
    "    ('Colonial NHP','http://www.openstreetmap.org/api/0.6/relation/5359484'),\n",
    "    ('Crater Lake NP','http://www.openstreetmap.org/api/0.6/relation/1274747'),\n",
    "    ('Craters of the Moon NM','http://www.openstreetmap.org/api/0.6/relation/904337'),\n",
    "    ('Curecanti NRA','http://www.openstreetmap.org/api/0.6/relation/395555'),\n",
    "    ('Cuyahoga Valley NP','http://www.openstreetmap.org/api/0.6/relation/1286297'),\n",
    "    ('Dayton Aviation Heritage NHP','http://www.openstreetmap.org/api/0.6/way/436551089'),\n",
    "    ('De Soto NMEM','http://www.openstreetmap.org/api/0.6/way/116594187'),\n",
    "    ('Death Valley NP','http://www.openstreetmap.org/api/0.6/relation/174732'),\n",
    "    ('Delaware Water Gap NRA','http://www.openstreetmap.org/api/0.6/way/34614750'),\n",
    "    ('Denali NP & PRES','http://www.openstreetmap.org/api/0.6/relation/3610473'),\n",
    "    ('Devils Postpile NM','http://www.openstreetmap.org/api/0.6/relation/6171345'),\n",
    "    ('Blue Ridge pwky','http://www.openstreetmap.org/api/0.6/relation/166587'),\n",
    "\n",
    "]"
   ]
  },
  {
   "cell_type": "code",
   "execution_count": 18,
   "metadata": {
    "collapsed": false
   },
   "outputs": [],
   "source": [
    "d = '../data/OSM_national_park@US'\n",
    "for np, url in np_osmurl:\n",
    "    file_path = '{}/{}.xml'.format(d,np)\n",
    "    dxml(file_path, url)"
   ]
  },
  {
   "cell_type": "code",
   "execution_count": null,
   "metadata": {
    "collapsed": true
   },
   "outputs": [],
   "source": []
  }
 ],
 "metadata": {
  "kernelspec": {
   "display_name": "Python 2",
   "language": "python",
   "name": "python2"
  },
  "language_info": {
   "codemirror_mode": {
    "name": "ipython",
    "version": 2
   },
   "file_extension": ".py",
   "mimetype": "text/x-python",
   "name": "python",
   "nbconvert_exporter": "python",
   "pygments_lexer": "ipython2",
   "version": "2.7.11"
  }
 },
 "nbformat": 4,
 "nbformat_minor": 0
}
