{
 "cells": [
  {
   "cell_type": "code",
   "execution_count": 16,
   "metadata": {
    "collapsed": false
   },
   "outputs": [],
   "source": [
    "import urllib2\n",
    "import os\n",
    "def dxml(file_path, url):\n",
    "    if not os.path.isfile(file_path):\n",
    "        with open(file_path,'w') as f:\n",
    "            file = urllib2.urlopen(url)\n",
    "            data = file.read()\n",
    "            file.close()\n",
    "            f.write(data)\n",
    "    else:\n",
    "        print file_path, 'exist!'"
   ]
  },
  {
   "cell_type": "code",
   "execution_count": 17,
   "metadata": {
    "collapsed": false
   },
   "outputs": [],
   "source": [
    "np_osmurl = [\n",
    "    ('Chaco Culture NHP','http://www.openstreetmap.org/api/0.6/relation/1463209'),\n",
    "    ('Chamizal NMEM','http://www.openstreetmap.org/api/0.6/way/249041571'),\n",
    "    ('Channel Islands NP','http://www.openstreetmap.org/api/0.6/relation/3636334'),\n",
    "    ('Chesapeake & Ohio Canal NHP','http://www.openstreetmap.org/api/0.6/relation/6077602'),\n",
    "    ('Chiricahua NM','http://www.openstreetmap.org/api/0.6/relation/5825440'),\n",
    "    ('City of Rocks NRES','http://www.openstreetmap.org/api/0.6/relation/6018625'),\n",
    "    ('Colonial NHP','http://www.openstreetmap.org/api/0.6/relation/5359484'),\n",
    "    ('Crater Lake NP','http://www.openstreetmap.org/api/0.6/relation/1274747'),\n",
    "    ('Craters of the Moon NM','http://www.openstreetmap.org/api/0.6/relation/904337'),\n",
    "    ('Curecanti NRA','http://www.openstreetmap.org/api/0.6/relation/395555'),\n",
    "    ('Cuyahoga Valley NP','http://www.openstreetmap.org/api/0.6/relation/1286297'),\n",
    "    ('Dayton Aviation Heritage NHP','http://www.openstreetmap.org/api/0.6/way/436551089'),\n",
    "    ('De Soto NMEM','http://www.openstreetmap.org/api/0.6/way/116594187'),\n",
    "    ('Death Valley NP','http://www.openstreetmap.org/api/0.6/relation/174732'),\n",
    "    ('Delaware Water Gap NRA','http://www.openstreetmap.org/api/0.6/way/34614750'),\n",
    "    ('Denali NP & PRES','http://www.openstreetmap.org/api/0.6/relation/3610473'),\n",
    "    ('Devils Postpile NM','http://www.openstreetmap.org/api/0.6/relation/6171345'),\n",
    "    ('Blue Ridge pwky','http://www.openstreetmap.org/api/0.6/relation/166587'),\n",
    "\n",
    "]"
   ]
  },
  {
   "cell_type": "code",
   "execution_count": 18,
   "metadata": {
    "collapsed": false
   },
   "outputs": [],
   "source": [
    "d = '../data/OSM_national_park@US'\n",
    "for np, url in np_osmurl:\n",
    "    file_path = '{}/{}.xml'.format(d,np)\n",
    "    dxml(file_path, url)"
   ]
  },
  {
   "cell_type": "code",
   "execution_count": 1,
   "metadata": {
    "collapsed": true
   },
   "outputs": [],
   "source": [
    "place = [\n",
    "    \"Devils Tower NM\",\n",
    "\"Dinosaur NM\",\n",
    "\"Dry Tortugas NP\",\n",
    "\"Edgar Allan Poe NHS\",\n",
    "\"Effigy Mounds NM\",\n",
    "\"Eisenhower NHS\",\n",
    "\"El Malpais NM\",\n",
    "\"El Morro NM\",\n",
    "\"Eleanor Roosevelt NHS\",\n",
    "\"Eugene O'Neill NHS\",\n",
    "\"Everglades NP\",\n",
    "\"Federal Hall NMEM\",\n",
    "\"Fire Island NS\",\n",
    "\"First Ladies NHS\",\n",
    "\"Flight 93 NMEM\",\n",
    "\"Florissant Fossil Beds NM\",\n",
    "\"Ford's Theatre NHS\",\n",
    "\"Fort Bowie NHS\",\n",
    "\"Fort Caroline NMEM\",\n",
    "\"Fort Davis NHS\",\n",
    "\"Fort Donelson NB\",\n",
    "\"Fort Frederica NM\",\n",
    "\"Fort Laramie NHS\",\n",
    "\"Fort Larned NHS\",\n",
    "\"Fort Matanzas NM\",\n",
    "\"Fort McHenry NM & HS\",\n",
    "\"Fort Necessity NB\",\n",
    "\"Fort Point NHS\",\n",
    "\"Fort Pulaski NM\",\n",
    "\"Fort Raleigh NHS\",\n",
    "\"Gates of the Arctic NP & PRES\",\n",
    "\"Gateway NRA\",\n",
    "\"Gauley River NRA\",\n",
    "\"Hagerman Fossil Beds NM\",\n",
    "\"Haleakala NP\",\n",
    "\"Hamilton Grange NMEM\",\n",
    "\"Hampton NHS\",\n",
    "\"Harpers Ferry NHP\",\n",
    "\"Harry S Truman NHS\",\n",
    "\"Hawaii Volcanoes NP\",\n",
    "\"Herbert Hoover NHS\",\n",
    "\"Home of Franklin D. Roosevelt NHS\",\n",
    "]"
   ]
  },
  {
   "cell_type": "code",
   "execution_count": 11,
   "metadata": {
    "collapsed": false
   },
   "outputs": [
    {
     "name": "stdout",
     "output_type": "stream",
     "text": [
      "http://www.openstreetmap.org/search?query=Devils%20Tower%20National%20Monument\n",
      "http://www.openstreetmap.org/search?query=Dinosaur%20National%20Monument\n",
      "http://www.openstreetmap.org/search?query=Dry%20Tortugas%20National%20Park\n",
      "http://www.openstreetmap.org/search?query=Edgar%20Allan%20Poe%20National%20Historic%20Site\n",
      "http://www.openstreetmap.org/search?query=Effigy%20Mounds%20National%20Monument\n",
      "http://www.openstreetmap.org/search?query=Eisenhower%20National%20Historic%20Site\n",
      "http://www.openstreetmap.org/search?query=El%20Malpais%20National%20Monument\n",
      "http://www.openstreetmap.org/search?query=El%20Morro%20National%20Monument\n",
      "http://www.openstreetmap.org/search?query=Eleanor%20Roosevelt%20National%20Historic%20Site\n",
      "http://www.openstreetmap.org/search?query=Eugene%20O'Neill%20National%20Historic%20Site\n",
      "http://www.openstreetmap.org/search?query=Everglades%20National%20Park\n",
      "http://www.openstreetmap.org/search?query=Federal%20Hall%20National%20Memorial\n",
      "http://www.openstreetmap.org/search?query=Fire%20Island%20National%20Seashore\n",
      "http://www.openstreetmap.org/search?query=First%20Ladies%20National%20Historic%20Site\n",
      "http://www.openstreetmap.org/search?query=Flight%2093%20National%20Memorial\n",
      "http://www.openstreetmap.org/search?query=Florissant%20Fossil%20Beds%20National%20Monument\n",
      "http://www.openstreetmap.org/search?query=Ford's%20Theatre%20National%20Historic%20Site\n",
      "http://www.openstreetmap.org/search?query=Fort%20Bowie%20National%20Historic%20Site\n",
      "http://www.openstreetmap.org/search?query=Fort%20Caroline%20National%20Memorial\n",
      "http://www.openstreetmap.org/search?query=Fort%20Davis%20National%20Historic%20Site\n",
      "http://www.openstreetmap.org/search?query=Fort%20Donelson%20National%20Battlefield\n",
      "http://www.openstreetmap.org/search?query=Fort%20Frederica%20National%20Monument\n",
      "http://www.openstreetmap.org/search?query=Fort%20Laramie%20National%20Historic%20Site\n",
      "http://www.openstreetmap.org/search?query=Fort%20Larned%20National%20Historic%20Site\n",
      "http://www.openstreetmap.org/search?query=Fort%20Matanzas%20National%20Monument\n",
      "http://www.openstreetmap.org/search?query=Fort%20McHenry%20National%20Monument%20%26%20Historic%20Shrine\n",
      "http://www.openstreetmap.org/search?query=Fort%20Necessity%20National%20Battlefield\n",
      "http://www.openstreetmap.org/search?query=Fort%20Point%20National%20Historic%20Site\n",
      "http://www.openstreetmap.org/search?query=Fort%20Pulaski%20National%20Monument\n",
      "http://www.openstreetmap.org/search?query=Fort%20Raleigh%20National%20Historic%20Site\n",
      "http://www.openstreetmap.org/search?query=Gates%20of%20the%20Arctic%20National%20Park%20%26%20Preserve\n",
      "http://www.openstreetmap.org/search?query=Gateway%20National%20Recreation%20Area\n",
      "http://www.openstreetmap.org/search?query=Gauley%20River%20National%20Recreation%20Area\n",
      "http://www.openstreetmap.org/search?query=Hagerman%20Fossil%20Beds%20National%20Monument\n",
      "http://www.openstreetmap.org/search?query=Haleakala%20National%20Park\n",
      "http://www.openstreetmap.org/search?query=Hamilton%20Grange%20National%20Memorial\n",
      "http://www.openstreetmap.org/search?query=Hampton%20National%20Historic%20Site\n",
      "http://www.openstreetmap.org/search?query=Harpers%20Ferry%20National%20Historical%20Park\n",
      "http://www.openstreetmap.org/search?query=Harry%20S%20Truman%20National%20Historic%20Site\n",
      "http://www.openstreetmap.org/search?query=Hawaii%20Volcanoes%20National%20Park\n",
      "http://www.openstreetmap.org/search?query=Herbert%20Hoover%20National%20Historic%20Site\n",
      "http://www.openstreetmap.org/search?query=Home%20of%20Franklin%20D.%20Roosevelt%20National%20Historic%20Site\n"
     ]
    }
   ],
   "source": [
    "def replace_char(p):\n",
    "    return p.replace('NMEM','National Memorial').replace('NHS','National Historic Site').replace('PRES','Preserve')\\\n",
    "            .replace('NHP','National Historical Park').replace('NRA','National Recreation Area').replace('HS','Historic Shrine')\\\n",
    "            .replace('NB','National Battlefield').replace('NM','National Monument').replace('NS','National Seashore')\\\n",
    "            .replace('NP', 'National Park').replace(' ','%20').replace('&','%26')\n",
    "for p in place:\n",
    "    print 'http://www.openstreetmap.org/search?query='+replace_char(p)"
   ]
  },
  {
   "cell_type": "code",
   "execution_count": null,
   "metadata": {
    "collapsed": true
   },
   "outputs": [],
   "source": []
  }
 ],
 "metadata": {
  "kernelspec": {
   "display_name": "Python 2",
   "language": "python",
   "name": "python2"
  },
  "language_info": {
   "codemirror_mode": {
    "name": "ipython",
    "version": 2
   },
   "file_extension": ".py",
   "mimetype": "text/x-python",
   "name": "python",
   "nbconvert_exporter": "python",
   "pygments_lexer": "ipython2",
   "version": "2.7.11"
  }
 },
 "nbformat": 4,
 "nbformat_minor": 0
}
