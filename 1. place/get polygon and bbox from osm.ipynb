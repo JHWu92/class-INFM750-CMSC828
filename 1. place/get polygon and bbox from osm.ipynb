{
 "cells": [
  {
   "cell_type": "code",
   "execution_count": 5,
   "metadata": {
    "collapsed": true
   },
   "outputs": [],
   "source": [
    "import os\n",
    "import geopandas as gp\n",
    "%matplotlib inline\n",
    "import shapely.ops as shpop\n",
    "import glob\n",
    "from osmread import parse_file, Way,Node,Relation\n",
    "import shapely.geometry as shpgeo\n",
    "import overpy\n",
    "import time"
   ]
  },
  {
   "cell_type": "code",
   "execution_count": 2,
   "metadata": {
    "collapsed": false
   },
   "outputs": [
    {
     "data": {
      "text/plain": [
       "<property at 0x4429d68>"
      ]
     },
     "execution_count": 2,
     "metadata": {},
     "output_type": "execute_result"
    }
   ],
   "source": [
    "api = overpy.Overpass()\n",
    "shpgeo.Polygon.centroid"
   ]
  },
  {
   "cell_type": "code",
   "execution_count": 3,
   "metadata": {
    "collapsed": false
   },
   "outputs": [],
   "source": [
    "def lonlat_in_way(way):\n",
    "    coors = []\n",
    "    for node in way.nodes:\n",
    "        coors.append((node.lon, node.lat))\n",
    "    return coors\n",
    "def is_closed_way(way):\n",
    "    return way.nodes[0] == way.nodes[-1]\n",
    "\n",
    "def way2line(way):\n",
    "    while True:\n",
    "        try:\n",
    "            way = api.query(\"\"\"\n",
    "            way(%s);\n",
    "            (._;>;);\n",
    "            out;\n",
    "            \"\"\"% way.id).ways[0]\n",
    "            break\n",
    "        except Exception as e:\n",
    "            print e\n",
    "            time.sleep(10)\n",
    "    coors = lonlat_in_way(way)\n",
    "    return shpgeo.LineString(coors)\n",
    "\n",
    "def haversine(lon1, lat1, lon2, lat2):\n",
    "    \"\"\"\n",
    "    Calculate the great circle distance between two points \n",
    "    on the earth (specified in decimal degrees)\n",
    "    \"\"\"\n",
    "    from math import radians, cos, sin, asin, sqrt\n",
    "    # convert decimal degrees to radians \n",
    "    lon1, lat1, lon2, lat2 = map(radians, [lon1, lat1, lon2, lat2])\n",
    "    # haversine formula \n",
    "    dlon = lon2 - lon1 \n",
    "    dlat = lat2 - lat1 \n",
    "    a = sin(dlat/2)**2 + cos(lat1) * cos(lat2) * sin(dlon/2)**2\n",
    "    c = 2 * asin(sqrt(a)) \n",
    "    km = 6367 * c\n",
    "    m = km *1000\n",
    "    return m\n",
    "\n",
    "\n",
    "        \n",
    "def handle_poly(poly):\n",
    "    ext_coords = poly.exterior.coords\n",
    "    centr = poly.centroid\n",
    "    radius = get_max_dis_from_center_to_ext(centr, ext_coords)\n",
    "    center_str = '%.6f,%.6f' %(centr.coords[0][0], centr.coords[0][1])\n",
    "    return '%s\\t%s\\t%s\\t%s\\n' %(name_pattern, center_str, radius, list(poly.exterior.coords))"
   ]
  },
  {
   "cell_type": "markdown",
   "metadata": {},
   "source": [
    "#  get polys from osm xml"
   ]
  },
  {
   "cell_type": "code",
   "execution_count": 4,
   "metadata": {
    "collapsed": true
   },
   "outputs": [],
   "source": [
    "OSM_XML_DIR = u'..\\\\data\\\\OSM_museum@England\\\\'\n",
    "MUSEUM_POLYS_PATH = '../data/place_polys_museum.tsv'\n",
    "osm2poly = '..\\\\data\\\\OSM2polygon_museum.tsv'\n",
    "osm2bbox = '..\\\\data\\\\OSM2bbox_museum.tsv'"
   ]
  },
  {
   "cell_type": "code",
   "execution_count": 131,
   "metadata": {
    "collapsed": false,
    "scrolled": true
   },
   "outputs": [
    {
     "name": "stdout",
     "output_type": "stream",
     "text": [
      "0 (NHM) SOUTH KENSINGTON\n",
      "24436446 True\n",
      "1 (NHM) TRING\n",
      "412803079 True\n",
      "2 (RA) FORT NELSON\n",
      "22927416 True\n",
      "3 (RA) LEEDS\n",
      "78431237 True\n",
      "4 (RA) WHITE TOWER\n",
      "369135772 True\n",
      "5 (V&A) BLYTHE HOUSE\n",
      "24538730 True\n",
      "6 (V&A) CHILDHOOD\n",
      "10790633 True\n",
      "7 (V&A) SOUTH KENSINGTON\n",
      "4960173 True\n",
      "8 BRITISH MUSEUM\n",
      "40405915 True\n",
      "9 CHURCHILL WAR ROOMS (IWM)\n",
      "139726525 True\n",
      "10 GEFFRYE MUSEUM\n",
      "107807460 True\n",
      "11 HMS BELFAST (IWM)\n",
      "5006061 True\n",
      "12 HORNIMAN MUSEUM\n",
      "210442848 True\n",
      "13 IWM DUXFORD1\n",
      "26521006 True\n",
      "14 IWM DUXFORD2\n",
      "22001428 True\n",
      "15 IWM DUXFORD3\n",
      "22001427 True\n",
      "16 IWM DUXFORD4\n",
      "22001429 True\n",
      "17 IWM DUXFORD5\n",
      "22001420 True\n",
      "18 IWM DUXFORD6\n",
      "22001424 True\n",
      "19 IWM DUXFORD7\n",
      "115136080 True\n",
      "20 IWM DUXFORD8\n",
      "22001422 True\n",
      "21 IWM DUXFORD9\n",
      "22001423 True\n",
      "22 IWM NORTH1\n",
      "187293587 True\n",
      "23 IWM NORTH2\n",
      "187293585 True\n",
      "24 NATIONAL COAL MINING MUSEUM\n",
      "249355161 True\n",
      "25 NATIONAL GALLERY\n",
      "4372002 True\n",
      "26 NATIONAL PORTRAIT GALLERY\n",
      "59161723 True\n",
      "27 ROYAL MUSEUMS GREENWICH\n",
      "183090507 True\n",
      "28 SCIENCE AND INDUSTRY MANCHESTER\n",
      "205197227 True\n",
      "29 SCIENCE LOCOMOTION SHILDON\n",
      "31426337 True\n",
      "30 SCIENCE NATIONAL MEDIA MUSEUM1\n",
      "159296321 True\n",
      "31 SCIENCE NATIONAL MEDIA MUSEUM2\n",
      "234767334 True\n",
      "32 SCIENCE SOUTH KENSINGTON\n",
      "27765411 True\n",
      "33 SIR JOHN SOANES\n",
      "61453261 True\n",
      "34 TATE BRITAIN\n",
      "24553580 True\n",
      "35 TATE LIVERPOOL1\n",
      "157514651 True\n",
      "36 TATE LIVERPOOL2\n",
      "157514652 True\n",
      "37 TATE MODERN\n",
      "24642569 True\n",
      "38 TATE ST IVES\n",
      "235295482 True\n",
      "39 WALLACE COLLECTION\n",
      "83488820 True\n",
      "done\n"
     ]
    }
   ],
   "source": [
    "\n",
    "def get_max_dis_from_center_to_ext(cntr,ext_coords):\n",
    "    lon1, lat1 = cntr\n",
    "    return max([haversine(lon1,lat1, lon2,lat2) for lon2, lat2 in ext_coords])\n",
    "def get_poly_cntr_radius(poly):\n",
    "    cntr = poly.centroid.coords[0]\n",
    "    ext_coords = poly.exterior.coords\n",
    "    radius = get_max_dis_from_center_to_ext(cntr, ext_coords)\n",
    "    return cntr, radius, ext_coords\n",
    "\n",
    "def read_polys(place_polys_path):\n",
    "    from ast import literal_eval\n",
    "    place_polys = list(open(place_polys_path).readlines())\n",
    "    place_polys =[line.split('\\t') for line in place_polys]\n",
    "    for i in range(len(place_polys)):\n",
    "        place_polys[i][3] = shpgeo.Polygon(literal_eval(place_polys[i][3]))\n",
    "    return place_polys\n",
    "\n",
    "def osm2poly(osm_xml_dir, place_polys_path, update_poly_file=False):\n",
    "    if not update_poly_file and os.path.isfile(place_polys_path):\n",
    "        return read_polys(place_polys_path)\n",
    "    \n",
    "    place_polys=[]\n",
    "    for i, osm_xml in enumerate(glob.glob(osm_xml_dir+'*')):\n",
    "        _, place = osm_xml.rsplit('\\\\',1)\n",
    "        place = place[:-4]\n",
    "        print i, place\n",
    "        for entity in parse_file(osm_xml):\n",
    "            print entity.id, is_closed_way(entity)\n",
    "            ln = way2line(entity)\n",
    "            poly = shpgeo.Polygon(ln)\n",
    "            cntr, radius, ext_coords = get_poly_cntr_radius(poly)\n",
    "            place_polys.append([place, cntr, radius, shpgeo.Polygon(ext_coords)])\n",
    "#         break\n",
    "    with open(place_polys_path, 'w') as f:\n",
    "        for place, cntr, raidus, poly in place_polys:\n",
    "            f.write('{}\\t{}\\t{}\\t{}\\n'.format(place, cntr, raidus, poly.exterior.coords))\n",
    "    return place_polys\n",
    "\n",
    "place_polys_museum = osm2poly(OSM_XML_DIR, MUSEUM_POLYS_PATH, True)\n",
    "print 'done'"
   ]
  },
  {
   "cell_type": "markdown",
   "metadata": {},
   "source": [
    "# get convex_hull"
   ]
  },
  {
   "cell_type": "code",
   "execution_count": 179,
   "metadata": {
    "collapsed": true
   },
   "outputs": [],
   "source": [
    "PLACE_POLYS_MUSEUM_CONVEX = '../data/place_polys_museum_convex.geojson'\n",
    "PLACE_POLYS_MUSEUM_CONVEX_BFR50 = '../data/place_polys_museum_convex_50m.geojson'\n",
    "PLACE_POLYS_MUSEUM_CONVEX_BFR100 = '../data/place_polys_museum_convex_100m.geojson'"
   ]
  },
  {
   "cell_type": "code",
   "execution_count": 188,
   "metadata": {
    "collapsed": false
   },
   "outputs": [],
   "source": [
    "place_polys_museum_gpdf = gp.GeoDataFrame(place_polys_museum, columns=['place', 'cntr', 'radius', 'geometry'])\n",
    "place_polys_museum_gpdf.crs = {'init':'epsg:4326'}"
   ]
  },
  {
   "cell_type": "code",
   "execution_count": 181,
   "metadata": {
    "collapsed": false
   },
   "outputs": [],
   "source": [
    "place_polys_museum_gpdf.place = place_polys_museum_gpdf.place.apply(lambda x: x[:-1] if x[-1].isdigit() else x)"
   ]
  },
  {
   "cell_type": "code",
   "execution_count": 201,
   "metadata": {
    "collapsed": true
   },
   "outputs": [],
   "source": [
    "\n",
    "def substract_overlap(subtrahend, minuend):\n",
    "    subtra_place, subtra_poly = subtrahend.place, subtrahend.geometry\n",
    "    for _,m_place,m_poly in minuend[['place','geometry']].itertuples():\n",
    "        if subtra_place!=m_place and subtra_poly.distance(m_poly)==0:\n",
    "            subtra_poly -= m_poly\n",
    "    return subtra_poly"
   ]
  },
  {
   "cell_type": "code",
   "execution_count": 212,
   "metadata": {
    "collapsed": false
   },
   "outputs": [],
   "source": [
    "place_polys_museum_convex_hull = []\n",
    "for place, grp in place_polys_museum_gpdf.groupby('place'):\n",
    "    place_polys_museum_convex_hull.append([place,shpop.cascaded_union(grp.geometry.values).convex_hull])\n",
    "place_polys_museum_convex_hull_gpdf = gp.GeoDataFrame(place_polys_museum_convex_hull, columns=['place','geometry'])\n",
    "place_polys_museum_convex_hull_gpdf.crs = {'init':'epsg:4326'}\n",
    "place_polys_museum_convex_hull_gpdf.geometry = place_polys_museum_convex_hull_gpdf.apply(lambda x: substract_overlap(x, place_polys_museum_gpdf), axis=1)"
   ]
  },
  {
   "cell_type": "code",
   "execution_count": 213,
   "metadata": {
    "collapsed": false
   },
   "outputs": [],
   "source": [
    "with open(PLACE_POLYS_MUSEUM_CONVEX,'w') as f:\n",
    "    f.write(place_polys_museum_convex_hull_gpdf.to_json())"
   ]
  },
  {
   "cell_type": "code",
   "execution_count": 184,
   "metadata": {
    "collapsed": false,
    "scrolled": true
   },
   "outputs": [],
   "source": []
  },
  {
   "cell_type": "markdown",
   "metadata": {},
   "source": [
    "# buffer 50m and 100m"
   ]
  },
  {
   "cell_type": "code",
   "execution_count": 214,
   "metadata": {
    "collapsed": false
   },
   "outputs": [],
   "source": [
    "def get_bfr_gpdf(gpdf, bfr):\n",
    "    gpdf_bfr = gpdf.to_crs(epsg=27700)\n",
    "    gpdf_bfr.geometry = gpdf_bfr.buffer(bfr)\n",
    "    gpdf_bfr = gpdf_bfr.to_crs(epsg=4326)\n",
    "    return gpdf_bfr\n",
    "\n",
    "\n",
    "place_polys_museum_convex_hull_gpdf_bfr = get_bfr_gpdf(place_polys_museum_convex_hull_gpdf, 50)\n",
    "place_polys_museum_convex_hull_gpdf_bfr.geometry = place_polys_museum_convex_hull_gpdf_bfr.apply(\n",
    "                                                    lambda x: substract_overlap(x, place_polys_museum_gpdf), axis=1)\n",
    "with open(PLACE_POLYS_MUSEUM_CONVEX_BFR50,'w')as f:\n",
    "    f.write(place_polys_museum_convex_hull_gpdf.to_json())\n",
    "\n",
    "place_polys_museum_convex_hull_gpdf_bfr = get_bfr_gpdf(place_polys_museum_convex_hull_gpdf, 100)\n",
    "place_polys_museum_convex_hull_gpdf_bfr.geometry = place_polys_museum_convex_hull_gpdf_bfr.apply(\n",
    "                                                    lambda x: substract_overlap(x, place_polys_museum_gpdf), axis=1)\n",
    "with open(PLACE_POLYS_MUSEUM_CONVEX_BFR100,'w')as f:\n",
    "    f.write(place_polys_museum_convex_hull_gpdf.to_json())"
   ]
  },
  {
   "cell_type": "code",
   "execution_count": 208,
   "metadata": {
    "collapsed": false
   },
   "outputs": [
    {
     "data": {
      "text/plain": [
       "<matplotlib.axes._subplots.AxesSubplot at 0x182cd940>"
      ]
     },
     "execution_count": 208,
     "metadata": {},
     "output_type": "execute_result"
    },
    {
     "data": {
      "image/png": "[encoded data removed]",
      "text/plain": [
       "<matplotlib.figure.Figure at 0x18ff40f0>"
      ]
     },
     "metadata": {},
     "output_type": "display_data"
    }
   ],
   "source": [
    "place_n = '(NHM) SOUTH KENSINGTON'\n",
    "place_n = 'NATIONAL GALLERY'\n",
    "place_polys_museum_convex_hull_gpdf_bfr[place_polys_museum_convex_hull_gpdf_bfr.place==place_n].plot()"
   ]
  },
  {
   "cell_type": "code",
   "execution_count": null,
   "metadata": {
    "collapsed": true
   },
   "outputs": [],
   "source": []
  },
  {
   "cell_type": "code",
   "execution_count": 142,
   "metadata": {
    "collapsed": false
   },
   "outputs": [],
   "source": [
    "import sys\n",
    "sys.path.insert(0, os.path.abspath('..'))\n",
    "from leaflet_creation_v2 import create_map_visualization"
   ]
  },
  {
   "cell_type": "code",
   "execution_count": 215,
   "metadata": {
    "collapsed": false
   },
   "outputs": [],
   "source": [
    "# check whether there is obvious mistake of places,\n",
    "# for example, use the national protrait gallery in DC for the NPG in England\n",
    "html_title = 'england museums'\n",
    "file_name = 'england museums'\n",
    "lon, lat  = -0.17869653562200458, 51.49451759485569\n",
    "zoom = 18\n",
    "init_layers = ['streets', 'stsg_layer']\n",
    "map_layers = ['light','streets']\n",
    "binding_data=[['stsg','street segment']]\n",
    "gpdf = gp.GeoDataFrame(place_polys_museum, columns=['place','cntr','radius','poly'])\n",
    "gpdf['geometry'] = gpdf.cntr.apply(lambda x: shpgeo.Point(x))\n",
    "gpdfs = [gpdf.drop(['cntr','radius','poly'],axis=1)]\n",
    "place_polys_museum_convex_hull_gpdf_vis = place_polys_museum_convex_hull_gpdf_bfr.copy()\n",
    "place_polys_museum_convex_hull_gpdf_vis['color'] = '#F00'\n",
    "gpdfs = [place_polys_museum_convex_hull_gpdf_vis]\n",
    "create_map_visualization(html_title, file_name, lat, lon, zoom, init_layers, map_layers, binding_data, gpdfs)"
   ]
  },
  {
   "cell_type": "code",
   "execution_count": null,
   "metadata": {
    "collapsed": true
   },
   "outputs": [],
   "source": []
  },
  {
   "cell_type": "code",
   "execution_count": null,
   "metadata": {
    "collapsed": true
   },
   "outputs": [],
   "source": []
  },
  {
   "cell_type": "code",
   "execution_count": null,
   "metadata": {
    "collapsed": true
   },
   "outputs": [],
   "source": []
  },
  {
   "cell_type": "code",
   "execution_count": null,
   "metadata": {
    "collapsed": true
   },
   "outputs": [],
   "source": []
  },
  {
   "cell_type": "markdown",
   "metadata": {},
   "source": [
    "# getting polys to file"
   ]
  },
  {
   "cell_type": "code",
   "execution_count": 4,
   "metadata": {
    "collapsed": false,
    "scrolled": true
   },
   "outputs": [
    {
     "name": "stdout",
     "output_type": "stream",
     "text": [
      "0 (NHM) SOUTH KENSINGTON.xml\n",
      "24436446 True\n",
      "1 (NHM) TRING.xml\n",
      "412803079 True\n",
      "2 (RA) FORT NELSON.xml\n",
      "22927416 True\n",
      "3 (RA) LEEDS.xml\n",
      "78431237 True\n",
      "4 (RA) WHITE TOWER.xml\n",
      "369135772 True\n",
      "5 (V&A) BLYTHE HOUSE.xml\n",
      "24538730 True\n",
      "6 (V&A) CHILDHOOD.xml\n",
      "10790633 True\n",
      "7 (V&A) SOUTH KENSINGTON.xml\n",
      "4960173 True\n",
      "8 BRITISH MUSEUM.xml\n",
      "40405915 True\n",
      "9 CHURCHILL WAR ROOMS (IWM).xml\n",
      "139726525 True\n",
      "10 GEFFRYE MUSEUM.xml\n",
      "107807460 True\n",
      "11 HMS BELFAST (IWM).xml\n",
      "5006061 True\n",
      "12 HORNIMAN MUSEUM.xml\n",
      "210442848 True\n",
      "13 IWM DUXFORD1.xml\n",
      "26521006 True\n",
      "14 IWM DUXFORD2.xml\n",
      "22001428 True\n",
      "15 IWM DUXFORD3.xml\n",
      "22001427 True\n",
      "16 IWM DUXFORD4.xml\n",
      "22001429 True\n",
      "17 IWM DUXFORD5.xml\n",
      "22001420 True\n",
      "18 IWM DUXFORD6.xml\n",
      "22001424 True\n",
      "19 IWM DUXFORD7.xml\n",
      "115136080 True\n",
      "20 IWM DUXFORD8.xml\n",
      "22001422 True\n",
      "21 IWM DUXFORD9.xml\n",
      "22001423 True\n",
      "22 IWM NORTH1.xml\n",
      "187293587 True\n",
      "23 IWM NORTH2.xml\n",
      "187293585 True\n",
      "24 NATIONAL COAL MINING MUSEUM.xml\n",
      "249355161 True\n",
      "25 NATIONAL GALLERY.xml\n",
      "4372002 True\n",
      "26 NATIONAL PORTRAIT GALLERY.xml\n",
      "48041275 True\n",
      "27 ROYAL MUSEUMS GREENWICH.xml\n",
      "183090507 True\n",
      "28 SCIENCE AND INDUSTRY MANCHESTER.xml\n",
      "205197227 True\n",
      "29 SCIENCE LOCOMOTION SHILDON.xml\n",
      "31426337 True\n",
      "30 SCIENCE NATIONAL MEDIA MUSEUM1.xml\n",
      "159296321 True\n",
      "31 SCIENCE NATIONAL MEDIA MUSEUM2.xml\n",
      "234767334 True\n",
      "32 SCIENCE SOUTH KENSINGTON.xml\n",
      "27765411 True\n",
      "33 SIR JOHN SOANES.xml\n",
      "61453261 True\n",
      "34 TATE BRITAIN.xml\n",
      "24553580 True\n",
      "35 TATE LIVERPOOL1.xml\n",
      "157514651 True\n",
      "36 TATE LIVERPOOL2.xml\n",
      "157514652 True\n",
      "37 TATE MODERN.xml\n",
      "24642569 True\n",
      "38 TATE ST IVES.xml\n",
      "235295482 True\n",
      "39 WALLACE COLLECTION.xml\n",
      "83488820 True\n"
     ]
    }
   ],
   "source": [
    "polys = []\n",
    "national_parks = []\n",
    "with open(osm2poly,'w') as f:\n",
    "    for i, file_path in enumerate(glob.glob(data_file_dir+'/*')):\n",
    "        _, name = file_path.rsplit('\\\\',1)\n",
    "        print i, name\n",
    "        name_pattern = name+'_%s_%s_%d.json'\n",
    "        for entity in parse_file(file_path):\n",
    "            print entity.id, is_closed_way(entity)\n",
    "            ln = way2line(entity)\n",
    "            poly = shpgeo.Polygon(ln)\n",
    "            out_str = handle_poly(poly)\n",
    "            polys.append(poly)\n",
    "            national_parks.append(name_pattern)\n",
    "            f.write(out_str)\n",
    "        break"
   ]
  },
  {
   "cell_type": "code",
   "execution_count": 5,
   "metadata": {
    "collapsed": false
   },
   "outputs": [
    {
     "name": "stdout",
     "output_type": "stream",
     "text": [
      "0 (NHM) SOUTH KENSINGTON (NHM) SOUTH KENSINGTON.xml_%s_%s_%d.json\n",
      "1 (NHM) TRING (NHM) TRING.xml_%s_%s_%d.json\n",
      "2 (RA) FORT NELSON (RA) FORT NELSON.xml_%s_%s_%d.json\n",
      "3 (RA) LEEDS (RA) LEEDS.xml_%s_%s_%d.json\n",
      "4 (RA) WHITE TOWER (RA) WHITE TOWER.xml_%s_%s_%d.json\n",
      "5 (V&A) BLYTHE HOUSE (V&A) BLYTHE HOUSE.xml_%s_%s_%d.json\n",
      "6 (V&A) CHILDHOOD (V&A) CHILDHOOD.xml_%s_%s_%d.json\n",
      "7 (V&A) SOUTH KENSINGTON (V&A) SOUTH KENSINGTON.xml_%s_%s_%d.json\n",
      "8 BRITISH MUSEUM BRITISH MUSEUM.xml_%s_%s_%d.json\n",
      "9 CHURCHILL WAR ROOMS (IWM) CHURCHILL WAR ROOMS (IWM).xml_%s_%s_%d.json\n",
      "10 GEFFRYE MUSEUM GEFFRYE MUSEUM.xml_%s_%s_%d.json\n",
      "11 HMS BELFAST (IWM) HMS BELFAST (IWM).xml_%s_%s_%d.json\n",
      "12 HORNIMAN MUSEUM HORNIMAN MUSEUM.xml_%s_%s_%d.json\n",
      "13 IWM DUXFORD1 IWM DUXFORD1.xml_%s_%s_%d.json\n",
      "14 IWM DUXFORD2 IWM DUXFORD2.xml_%s_%s_%d.json\n",
      "15 IWM DUXFORD3 IWM DUXFORD3.xml_%s_%s_%d.json\n",
      "16 IWM DUXFORD4 IWM DUXFORD4.xml_%s_%s_%d.json\n",
      "17 IWM DUXFORD5 IWM DUXFORD5.xml_%s_%s_%d.json\n",
      "18 IWM DUXFORD6 IWM DUXFORD6.xml_%s_%s_%d.json\n",
      "19 IWM DUXFORD7 IWM DUXFORD7.xml_%s_%s_%d.json\n",
      "20 IWM DUXFORD8 IWM DUXFORD8.xml_%s_%s_%d.json\n",
      "21 IWM DUXFORD9 IWM DUXFORD9.xml_%s_%s_%d.json\n",
      "22 IWM NORTH1 IWM NORTH1.xml_%s_%s_%d.json\n",
      "23 IWM NORTH2 IWM NORTH2.xml_%s_%s_%d.json\n",
      "24 NATIONAL COAL MINING MUSEUM NATIONAL COAL MINING MUSEUM.xml_%s_%s_%d.json\n",
      "25 NATIONAL GALLERY NATIONAL GALLERY.xml_%s_%s_%d.json\n",
      "26 NATIONAL PORTRAIT GALLERY NATIONAL PORTRAIT GALLERY.xml_%s_%s_%d.json\n",
      "27 ROYAL MUSEUMS GREENWICH ROYAL MUSEUMS GREENWICH.xml_%s_%s_%d.json\n",
      "28 SCIENCE AND INDUSTRY MANCHESTER SCIENCE AND INDUSTRY MANCHESTER.xml_%s_%s_%d.json\n",
      "29 SCIENCE LOCOMOTION SHILDON SCIENCE LOCOMOTION SHILDON.xml_%s_%s_%d.json\n",
      "30 SCIENCE NATIONAL MEDIA MUSEUM1 SCIENCE NATIONAL MEDIA MUSEUM1.xml_%s_%s_%d.json\n",
      "31 SCIENCE NATIONAL MEDIA MUSEUM2 SCIENCE NATIONAL MEDIA MUSEUM2.xml_%s_%s_%d.json\n",
      "32 SCIENCE SOUTH KENSINGTON SCIENCE SOUTH KENSINGTON.xml_%s_%s_%d.json\n",
      "33 SIR JOHN SOANES SIR JOHN SOANES.xml_%s_%s_%d.json\n",
      "34 TATE BRITAIN TATE BRITAIN.xml_%s_%s_%d.json\n",
      "35 TATE LIVERPOOL1 TATE LIVERPOOL1.xml_%s_%s_%d.json\n",
      "36 TATE LIVERPOOL2 TATE LIVERPOOL2.xml_%s_%s_%d.json\n",
      "37 TATE MODERN TATE MODERN.xml_%s_%s_%d.json\n",
      "38 TATE ST IVES TATE ST IVES.xml_%s_%s_%d.json\n",
      "39 WALLACE COLLECTION WALLACE COLLECTION.xml_%s_%s_%d.json\n"
     ]
    }
   ],
   "source": [
    "\n",
    "with open(osm2bbox,'w') as f:\n",
    "    for i, file_path in enumerate(glob.glob(data_file_dir+'/*')):\n",
    "        _, name = file_path.rsplit('\\\\',1)\n",
    "        name = name[:-4]\n",
    "        print i, name, national_parks[i]\n",
    "        name_pattern = name+'_%s_%s_%d.json'\n",
    "        poly = polys[i]\n",
    "        bbox = poly.bounds\n",
    "        bbox_str = ','.join([str(x)for x in bbox])\n",
    "        center_str = '%.6f,%.6f' %(poly.centroid.coords[0][1], poly.centroid.coords[0][0])\n",
    "        f.write('%s\\t%s\\t%s\\n' %(name_pattern, center_str, bbox_str))\n",
    "        "
   ]
  },
  {
   "cell_type": "code",
   "execution_count": 14,
   "metadata": {
    "collapsed": false
   },
   "outputs": [
    {
     "name": "stdout",
     "output_type": "stream",
     "text": [
      "0 (NHM) SOUTH KENSINGTON\n",
      "24436446 True\n",
      "1 (NHM) TRING\n",
      "412803079 True\n",
      "2 (RA) FORT NELSON\n",
      "22927416 True\n",
      "3 (RA) LEEDS\n",
      "78431237 True\n",
      "4 (RA) WHITE TOWER\n",
      "369135772 True\n",
      "5 (V&A) BLYTHE HOUSE\n",
      "24538730 True\n",
      "6 (V&A) CHILDHOOD\n",
      "10790633 True\n",
      "7 (V&A) SOUTH KENSINGTON\n",
      "4960173 True\n",
      "8 BRITISH MUSEUM\n",
      "40405915 True\n",
      "9 CHURCHILL WAR ROOMS (IWM)\n",
      "139726525 True\n",
      "10 GEFFRYE MUSEUM\n",
      "107807460 True\n",
      "11 HMS BELFAST (IWM)\n",
      "5006061 True\n",
      "12 HORNIMAN MUSEUM\n",
      "210442848 True\n",
      "13 IWM DUXFORD1\n",
      "26521006 True\n",
      "14 IWM DUXFORD2\n",
      "22001428 True\n",
      "15 IWM DUXFORD3\n",
      "22001427 True\n",
      "16 IWM DUXFORD4\n",
      "22001429 True\n",
      "17 IWM DUXFORD5\n",
      "22001420 True\n",
      "18 IWM DUXFORD6\n",
      "22001424 True\n",
      "19 IWM DUXFORD7\n",
      "115136080 True\n",
      "20 IWM DUXFORD8\n",
      "22001422 True\n",
      "21 IWM DUXFORD9\n",
      "22001423 True\n",
      "22 IWM NORTH1\n",
      "187293587 True\n",
      "23 IWM NORTH2\n",
      "187293585 True\n",
      "24 NATIONAL COAL MINING MUSEUM\n",
      "249355161 True\n",
      "25 NATIONAL GALLERY\n",
      "4372002 True\n",
      "26 NATIONAL PORTRAIT GALLERY\n",
      "48041275 True\n",
      "27 ROYAL MUSEUMS GREENWICH\n",
      "183090507 True\n",
      "28 SCIENCE AND INDUSTRY MANCHESTER\n",
      "205197227 True\n",
      "29 SCIENCE LOCOMOTION SHILDON\n",
      "31426337 True\n",
      "30 SCIENCE NATIONAL MEDIA MUSEUM1\n",
      "159296321 True\n",
      "31 SCIENCE NATIONAL MEDIA MUSEUM2\n",
      "234767334 True\n",
      "32 SCIENCE SOUTH KENSINGTON\n",
      "27765411 True\n",
      "33 SIR JOHN SOANES\n",
      "61453261 True\n",
      "34 TATE BRITAIN\n",
      "24553580 True\n",
      "35 TATE LIVERPOOL1\n",
      "157514651 True\n"
     ]
    },
    {
     "ename": "OverpassTooManyRequests",
     "evalue": "Too many requests",
     "output_type": "error",
     "traceback": [
      "\u001b[1;31m---------------------------------------------------------------------------\u001b[0m",
      "\u001b[1;31mOverpassTooManyRequests\u001b[0m                   Traceback (most recent call last)",
      "\u001b[1;32m<ipython-input-14-4846adcf09b4>\u001b[0m in \u001b[0;36m<module>\u001b[1;34m()\u001b[0m\n\u001b[0;32m      7\u001b[0m         \u001b[1;32mfor\u001b[0m \u001b[0mentity\u001b[0m \u001b[1;32min\u001b[0m \u001b[0mparse_file\u001b[0m\u001b[1;33m(\u001b[0m\u001b[0mfile_path\u001b[0m\u001b[1;33m)\u001b[0m\u001b[1;33m:\u001b[0m\u001b[1;33m\u001b[0m\u001b[0m\n\u001b[0;32m      8\u001b[0m             \u001b[1;32mprint\u001b[0m \u001b[0mentity\u001b[0m\u001b[1;33m.\u001b[0m\u001b[0mid\u001b[0m\u001b[1;33m,\u001b[0m \u001b[0mis_closed_way\u001b[0m\u001b[1;33m(\u001b[0m\u001b[0mentity\u001b[0m\u001b[1;33m)\u001b[0m\u001b[1;33m\u001b[0m\u001b[0m\n\u001b[1;32m----> 9\u001b[1;33m             \u001b[0mln\u001b[0m \u001b[1;33m=\u001b[0m \u001b[0mway2line\u001b[0m\u001b[1;33m(\u001b[0m\u001b[0mentity\u001b[0m\u001b[1;33m)\u001b[0m\u001b[1;33m\u001b[0m\u001b[0m\n\u001b[0m\u001b[0;32m     10\u001b[0m             \u001b[0mpoly\u001b[0m \u001b[1;33m=\u001b[0m \u001b[0mshpgeo\u001b[0m\u001b[1;33m.\u001b[0m\u001b[0mPolygon\u001b[0m\u001b[1;33m(\u001b[0m\u001b[0mln\u001b[0m\u001b[1;33m)\u001b[0m\u001b[1;33m\u001b[0m\u001b[0m\n\u001b[0;32m     11\u001b[0m             \u001b[0mbbox\u001b[0m \u001b[1;33m=\u001b[0m \u001b[0mpoly\u001b[0m\u001b[1;33m.\u001b[0m\u001b[0mbounds\u001b[0m\u001b[1;33m\u001b[0m\u001b[0m\n",
      "\u001b[1;32m<ipython-input-5-b5ff2b4c0f84>\u001b[0m in \u001b[0;36mway2line\u001b[1;34m(way)\u001b[0m\n\u001b[0;32m     12\u001b[0m     \u001b[1;33m(\u001b[0m\u001b[1;33m.\u001b[0m\u001b[0m_\u001b[0m\u001b[1;33m;\u001b[0m\u001b[1;33m>\u001b[0m\u001b[1;33m;\u001b[0m\u001b[1;33m)\u001b[0m\u001b[1;33m;\u001b[0m\u001b[1;33m\u001b[0m\u001b[0m\n\u001b[0;32m     13\u001b[0m     \u001b[0mout\u001b[0m\u001b[1;33m;\u001b[0m\u001b[1;33m\u001b[0m\u001b[0m\n\u001b[1;32m---> 14\u001b[1;33m     \"\"\"% way.id).ways[0]\n\u001b[0m\u001b[0;32m     15\u001b[0m     \u001b[0mcoors\u001b[0m \u001b[1;33m=\u001b[0m \u001b[0mlonlat_in_way\u001b[0m\u001b[1;33m(\u001b[0m\u001b[0mway\u001b[0m\u001b[1;33m)\u001b[0m\u001b[1;33m\u001b[0m\u001b[0m\n\u001b[0;32m     16\u001b[0m     \u001b[1;32mreturn\u001b[0m \u001b[0mshpgeo\u001b[0m\u001b[1;33m.\u001b[0m\u001b[0mLineString\u001b[0m\u001b[1;33m(\u001b[0m\u001b[0mcoors\u001b[0m\u001b[1;33m)\u001b[0m\u001b[1;33m\u001b[0m\u001b[0m\n",
      "\u001b[1;32mD:\\Program Files\\Anaconda2\\lib\\site-packages\\overpy\\__init__.pyc\u001b[0m in \u001b[0;36mquery\u001b[1;34m(self, query)\u001b[0m\n\u001b[0;32m    108\u001b[0m \u001b[1;33m\u001b[0m\u001b[0m\n\u001b[0;32m    109\u001b[0m         \u001b[1;32mif\u001b[0m \u001b[0mf\u001b[0m\u001b[1;33m.\u001b[0m\u001b[0mcode\u001b[0m \u001b[1;33m==\u001b[0m \u001b[1;36m429\u001b[0m\u001b[1;33m:\u001b[0m\u001b[1;33m\u001b[0m\u001b[0m\n\u001b[1;32m--> 110\u001b[1;33m             \u001b[1;32mraise\u001b[0m \u001b[0mexception\u001b[0m\u001b[1;33m.\u001b[0m\u001b[0mOverpassTooManyRequests\u001b[0m\u001b[1;33m\u001b[0m\u001b[0m\n\u001b[0m\u001b[0;32m    111\u001b[0m \u001b[1;33m\u001b[0m\u001b[0m\n\u001b[0;32m    112\u001b[0m         \u001b[1;32mif\u001b[0m \u001b[0mf\u001b[0m\u001b[1;33m.\u001b[0m\u001b[0mcode\u001b[0m \u001b[1;33m==\u001b[0m \u001b[1;36m504\u001b[0m\u001b[1;33m:\u001b[0m\u001b[1;33m\u001b[0m\u001b[0m\n",
      "\u001b[1;31mOverpassTooManyRequests\u001b[0m: Too many requests"
     ]
    }
   ],
   "source": [
    "\n",
    "with open(osm2bbox,'w') as f:\n",
    "    for i, file_path in enumerate(glob.glob(data_file_dir+'/*')):\n",
    "        _, name = file_path.rsplit('\\\\',1)\n",
    "        name = name[:-4]\n",
    "        print i, name\n",
    "        name_pattern = name+'_%s_%s_%d.json'\n",
    "        for entity in parse_file(file_path):\n",
    "            print entity.id, is_closed_way(entity)\n",
    "            ln = way2line(entity)\n",
    "            poly = shpgeo.Polygon(ln)\n",
    "            bbox = poly.bounds\n",
    "            bbox_str = ','.join([str(x)for x in bbox])\n",
    "            center_str = '%.6f,%.6f' %(poly.centroid.coords[0][1], poly.centroid.coords[0][0])\n",
    "            f.write('%s\\t%s\\t%s\\n' %(name_pattern, center_str, bbox_str))"
   ]
  },
  {
   "cell_type": "code",
   "execution_count": null,
   "metadata": {
    "collapsed": true
   },
   "outputs": [],
   "source": []
  }
 ],
 "metadata": {
  "kernelspec": {
   "display_name": "Python 2",
   "language": "python",
   "name": "python2"
  },
  "language_info": {
   "codemirror_mode": {
    "name": "ipython",
    "version": 2
   },
   "file_extension": ".py",
   "mimetype": "text/x-python",
   "name": "python",
   "nbconvert_exporter": "python",
   "pygments_lexer": "ipython2",
   "version": "2.7.11"
  }
 },
 "nbformat": 4,
 "nbformat_minor": 0
}
