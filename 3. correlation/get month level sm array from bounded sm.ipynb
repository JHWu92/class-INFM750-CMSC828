{
 "cells": [
  {
   "cell_type": "code",
   "execution_count": 14,
   "metadata": {
    "collapsed": false
   },
   "outputs": [],
   "source": [
    "import pandas as pd\n",
    "bounded_tw_paths = ['../data/twitter_infos_1_buffer=1.csv', '../data/twitter_infos_2_buffer=1.csv']\n",
    "bounded_fl_paths = ['../data/flickr_photo_in_museum_buffer=1.csv']"
   ]
  },
  {
   "cell_type": "code",
   "execution_count": 61,
   "metadata": {
    "collapsed": false
   },
   "outputs": [],
   "source": [
    "def smdf_by_buffer(sm_paths):\n",
    "    from collections import defaultdict\n",
    "    dfs = defaultdict(list)\n",
    "    dfs_concat = {}\n",
    "    for path in sm_paths:\n",
    "        bfr = path.rsplit('_',1)[1][:-4]\n",
    "        df = pd.read_csv(path,index_col=0)\n",
    "        dfs[bfr].append(df)\n",
    "    for bfr, dfs_bfr in dfs.items():\n",
    "        df = pd.concat(dfs_bfr)\n",
    "        dfs_concat[bfr]=df\n",
    "    return dfs_concat\n",
    "dfs_tw = smdf_by_buffer(bounded_tw_paths)\n",
    "dfs_fl = smdf_by_buffer(bounded_fl_paths)\n",
    "        "
   ]
  },
  {
   "cell_type": "code",
   "execution_count": 63,
   "metadata": {
    "collapsed": false
   },
   "outputs": [],
   "source": [
    "def simplify_sm(dfs_sm, ts_col, keep_cols):\n",
    "    from dateutil.parser import parse as date_parse\n",
    "    def get_yr_mn_dy(x):\n",
    "        dt = date_parse(x)\n",
    "        return '%s_%02d_%02d' %(dt.year, int(dt.month),int(dt.day))\n",
    "    def clean_place(x):\n",
    "        x = x[:-1] if x[-1].isdigit() else x\n",
    "        return x.replace(' ','_')\n",
    "    dfs_sm_simplified = {}\n",
    "    for bfr, df_sm in dfs_sm.items():\n",
    "        df = df_sm.copy()\n",
    "        df['ymd'] = df[ts_col].apply(get_yr_mn_dy)\n",
    "        df['ym'] = df.ymd.apply(lambda x:x[:-3])\n",
    "        df = df[keep_cols].copy()\n",
    "        df.columns = ['smid','user','place', 'ymd','ym']\n",
    "        df.place = df.place.apply(clean_place)\n",
    "        dfs_sm_simplified[bfr]=df\n",
    "    return dfs_sm_simplified\n",
    "\n",
    "dfs_tw = simplify_sm(dfs_tw, 'ts',['smid','user','place','ymd','ym'])\n",
    "dfs_fl = simplify_sm(dfs_fl, 'date_taken', ['id','owner', 'museum', 'ymd','ym'])"
   ]
  },
  {
   "cell_type": "code",
   "execution_count": 101,
   "metadata": {
    "collapsed": false,
    "scrolled": false
   },
   "outputs": [],
   "source": [
    "MONTHS = ['2014_01','2014_02','2014_03','2014_04','2014_05','2014_06','2014_07','2014_08','2014_09','2014_10','2014_11','2014_12','2015_01','2015_02','2015_03','2015_04','2015_05','2015_06','2015_07','2015_08','2015_09','2015_10','2015_11','2015_12','2016_01','2016_02','2016_03','2016_04','2016_05','2016_06','2016_07','2016_08']\n",
    "\n",
    "def agg_month_lvl(dfs_sm, months, complete):\n",
    "    dfs_sm_mn_lvl = {}\n",
    "    for bfr, df_sm in dfs_sm.items():\n",
    "        sm_mn_lvl = pd.DataFrame(columns=['place','ym','visit'])\n",
    "        for place, gb in df_sm.groupby('place'):\n",
    "            place_df = gb.copy()\n",
    "            place_df = place_df.drop_duplicates(['ymd','user'])\n",
    "            mn_lvl = place_df.groupby('ym').count()['ymd']\n",
    "            min_month_idx = months.index(mn_lvl.index.min()) if not complete else 0\n",
    "            if min_month_idx<12:\n",
    "                mn_lvl = mn_lvl.reindex(months[min_month_idx:]).fillna(0)\n",
    "                mn_lvl = mn_lvl.reset_index()\n",
    "                mn_lvl.columns = ['ym','visit']\n",
    "                mn_lvl['place'] = place\n",
    "                mv_lvl = mn_lvl[['place','ym','visit']]\n",
    "                sm_mn_lvl = pd.concat([sm_mn_lvl, mn_lvl], ignore_index=True)\n",
    "#                 print mn_lvl.head()\n",
    "        dfs_sm_mn_lvl[bfr] = sm_mn_lvl\n",
    "    return dfs_sm_mn_lvl\n",
    "\n",
    "dfs_tw_mn_lvl = agg_month_lvl(dfs_tw, MONTHS, False)\n",
    "dfs_fl_mn_lvl = agg_month_lvl(dfs_fl, MONTHS, True)"
   ]
  },
  {
   "cell_type": "code",
   "execution_count": 102,
   "metadata": {
    "collapsed": true
   },
   "outputs": [],
   "source": [
    "assert dfs_tw_mn_lvl.keys()==dfs_fl_mn_lvl.keys()"
   ]
  },
  {
   "cell_type": "code",
   "execution_count": 103,
   "metadata": {
    "collapsed": true
   },
   "outputs": [],
   "source": [
    "def output_mn_lvl(dfs_sm_mn_lvl, smtype):\n",
    "    for bfr, df_sm_mn_lvl in dfs_sm_mn_lvl.items():\n",
    "        df_sm_mn_lvl.to_csv('../data/cor_sm_{}_{}.csv'.format(smtype, bfr))"
   ]
  },
  {
   "cell_type": "code",
   "execution_count": 104,
   "metadata": {
    "collapsed": true
   },
   "outputs": [],
   "source": [
    "output_mn_lvl(dfs_tw_mn_lvl, 'tw')\n",
    "output_mn_lvl(dfs_fl_mn_lvl, 'fl')"
   ]
  },
  {
   "cell_type": "code",
   "execution_count": null,
   "metadata": {
    "collapsed": true
   },
   "outputs": [],
   "source": []
  }
 ],
 "metadata": {
  "kernelspec": {
   "display_name": "Python 2",
   "language": "python",
   "name": "python2"
  },
  "language_info": {
   "codemirror_mode": {
    "name": "ipython",
    "version": 2
   },
   "file_extension": ".py",
   "mimetype": "text/x-python",
   "name": "python",
   "nbconvert_exporter": "python",
   "pygments_lexer": "ipython2",
   "version": "2.7.11"
  }
 },
 "nbformat": 4,
 "nbformat_minor": 0
}
